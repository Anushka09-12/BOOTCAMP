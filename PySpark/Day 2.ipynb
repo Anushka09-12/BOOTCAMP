{
 "cells": [
  {
   "cell_type": "code",
   "execution_count": null,
   "id": "23895b64",
   "metadata": {},
   "outputs": [],
   "source": [
    "#creating schema using struct data type of pyspark\n",
    "\n",
    "from pyspark.sql.types import *\n",
    "\n",
    "user_schema = StructType([\n",
    "Structfield(\"id\",IntergerType()), \n",
    "Structfield(\"name\",StringType()),\n",
    "Structfield(\"age\",IntergerType())\n",
    "                    ])\n",
    "\n",
    "df.spark.createDataFrame(data,user_schema)"
   ]
  },
  {
   "cell_type": "code",
   "execution_count": 34,
   "id": "4288b546",
   "metadata": {},
   "outputs": [],
   "source": [
    "import pyspark\n",
    "import findspark\n",
    "findspark.init()\n",
    "from pyspark.sql import SparkSession\n",
    "spark=SparkSession.builder.appName(\"Example\").getOrCreate()\n",
    "from pyspark.sql.types import *\n",
    "from pyspark.sql.functions import *"
   ]
  },
  {
   "cell_type": "code",
   "execution_count": 33,
   "id": "6e1a3588",
   "metadata": {},
   "outputs": [],
   "source": [
    "data=[(1,\"a\",30),(2,\"b\",32)]\n",
    "\n",
    "user_schema = StructType([\n",
    "StructField(\"id\",IntegerType()), \n",
    "StructField(\"name\",StringType()),\n",
    "StructField(\"age\",IntegerType())\n",
    "                    ])\n",
    "\n",
    "df=spark.createDataFrame(data,user_schema)"
   ]
  },
  {
   "cell_type": "code",
   "execution_count": 3,
   "id": "efcf55f5",
   "metadata": {},
   "outputs": [
    {
     "name": "stderr",
     "output_type": "stream",
     "text": [
      "                                                                                \r"
     ]
    },
    {
     "name": "stdout",
     "output_type": "stream",
     "text": [
      "+---+----+---+\n",
      "| id|name|age|\n",
      "+---+----+---+\n",
      "|  1|   a| 30|\n",
      "|  2|   b| 32|\n",
      "+---+----+---+\n",
      "\n"
     ]
    }
   ],
   "source": [
    "df.show()"
   ]
  },
  {
   "cell_type": "code",
   "execution_count": 4,
   "id": "e30e43b8",
   "metadata": {},
   "outputs": [],
   "source": [
    "data2 = [\n",
    "    (1, \"Alice\", [\"Reading\", \"Hiking\"]),\n",
    "    (2, \"Bob\", [\"Swimming\", \"Gardening\", \"Painting\"]),\n",
    "    (3, \"Charlie\", [\"Cooking\"]),\n",
    "    (4, \"David\", [\"Photography\", \"Skiing\", \"Cooking\"])\n",
    "]"
   ]
  },
  {
   "cell_type": "code",
   "execution_count": 5,
   "id": "67b424be",
   "metadata": {},
   "outputs": [
    {
     "name": "stdout",
     "output_type": "stream",
     "text": [
      "+---+-------+--------------------+\n",
      "| id|   name|             hobbies|\n",
      "+---+-------+--------------------+\n",
      "|  1|  Alice|   [Reading, Hiking]|\n",
      "|  2|    Bob|[Swimming, Garden...|\n",
      "|  3|Charlie|           [Cooking]|\n",
      "|  4|  David|[Photography, Ski...|\n",
      "+---+-------+--------------------+\n",
      "\n"
     ]
    }
   ],
   "source": [
    "schema2 = StructType([\n",
    "    StructField(\"id\", IntegerType()),\n",
    "    StructField(\"name\", StringType()),\n",
    "    StructField(\"hobbies\", ArrayType(StringType()))\n",
    "])\n",
    "\n",
    "df2 = spark.createDataFrame(data2,schema2)\n",
    "df2.show()"
   ]
  },
  {
   "cell_type": "code",
   "execution_count": 36,
   "id": "48d850bd",
   "metadata": {},
   "outputs": [],
   "source": [
    "from pyspark.sql.functions import *"
   ]
  },
  {
   "cell_type": "code",
   "execution_count": 7,
   "id": "2cf3a91b",
   "metadata": {},
   "outputs": [],
   "source": [
    "#to split the multivalue column into different new rows we use explode\n",
    "\n",
    "df3=df2.select(\"id\",\"name\",explode(\"hobbies\").alias(\"hobby\"))"
   ]
  },
  {
   "cell_type": "code",
   "execution_count": 8,
   "id": "67ad1b3d",
   "metadata": {},
   "outputs": [
    {
     "name": "stdout",
     "output_type": "stream",
     "text": [
      "+---+-------+-----------+\n",
      "| id|   name|      hobby|\n",
      "+---+-------+-----------+\n",
      "|  1|  Alice|    Reading|\n",
      "|  1|  Alice|     Hiking|\n",
      "|  2|    Bob|   Swimming|\n",
      "|  2|    Bob|  Gardening|\n",
      "|  2|    Bob|   Painting|\n",
      "|  3|Charlie|    Cooking|\n",
      "|  4|  David|Photography|\n",
      "|  4|  David|     Skiing|\n",
      "|  4|  David|    Cooking|\n",
      "+---+-------+-----------+\n",
      "\n"
     ]
    }
   ],
   "source": [
    "df3.show()"
   ]
  },
  {
   "cell_type": "code",
   "execution_count": 11,
   "id": "2b3c786d",
   "metadata": {},
   "outputs": [
    {
     "name": "stdout",
     "output_type": "stream",
     "text": [
      "+---+-------+--------------------+-----------+\n",
      "| id|   name|             hobbies|   newHobby|\n",
      "+---+-------+--------------------+-----------+\n",
      "|  1|  Alice|   [Reading, Hiking]|    Reading|\n",
      "|  1|  Alice|   [Reading, Hiking]|     Hiking|\n",
      "|  2|    Bob|[Swimming, Garden...|   Swimming|\n",
      "|  2|    Bob|[Swimming, Garden...|  Gardening|\n",
      "|  2|    Bob|[Swimming, Garden...|   Painting|\n",
      "|  3|Charlie|           [Cooking]|    Cooking|\n",
      "|  4|  David|[Photography, Ski...|Photography|\n",
      "|  4|  David|[Photography, Ski...|     Skiing|\n",
      "|  4|  David|[Photography, Ski...|    Cooking|\n",
      "+---+-------+--------------------+-----------+\n",
      "\n"
     ]
    }
   ],
   "source": [
    "df2.withColumn(\"newHobby\",explode(\"hobbies\")).show()"
   ]
  },
  {
   "cell_type": "code",
   "execution_count": 12,
   "id": "a6bc9648",
   "metadata": {},
   "outputs": [
    {
     "name": "stdout",
     "output_type": "stream",
     "text": [
      "+---+-------+-----------+\n",
      "| id|   name|    hobbies|\n",
      "+---+-------+-----------+\n",
      "|  1|  Alice|    Reading|\n",
      "|  1|  Alice|     Hiking|\n",
      "|  2|    Bob|   Swimming|\n",
      "|  2|    Bob|  Gardening|\n",
      "|  2|    Bob|   Painting|\n",
      "|  3|Charlie|    Cooking|\n",
      "|  4|  David|Photography|\n",
      "|  4|  David|     Skiing|\n",
      "|  4|  David|    Cooking|\n",
      "+---+-------+-----------+\n",
      "\n"
     ]
    }
   ],
   "source": [
    "df2.withColumn(\"hobbies\",explode(\"hobbies\")).show()"
   ]
  },
  {
   "cell_type": "code",
   "execution_count": 13,
   "id": "1372801c",
   "metadata": {},
   "outputs": [
    {
     "name": "stdout",
     "output_type": "stream",
     "text": [
      "+---+-------+--------------------+\n",
      "| id|   name|             hobbies|\n",
      "+---+-------+--------------------+\n",
      "|  1|  Alice|   [Reading, Hiking]|\n",
      "|  2|    Bob|[Swimming, Garden...|\n",
      "|  3|Charlie|           [Cooking]|\n",
      "|  4|  David|[Photography, Ski...|\n",
      "+---+-------+--------------------+\n",
      "\n"
     ]
    }
   ],
   "source": [
    "df2.show()"
   ]
  },
  {
   "cell_type": "code",
   "execution_count": 23,
   "id": "363aa7b0",
   "metadata": {},
   "outputs": [],
   "source": [
    "df3=df2.withColumn(\"Ingestion Time\", current_timestamp())\\\n",
    ".withColumn(\"hobbies\",explode(\"hobbies\"))"
   ]
  },
  {
   "cell_type": "code",
   "execution_count": 24,
   "id": "b3034c78",
   "metadata": {},
   "outputs": [
    {
     "name": "stdout",
     "output_type": "stream",
     "text": [
      "+---+-------+-----------+-----------------------+\n",
      "|id |name   |hobbies    |Ingestion Time         |\n",
      "+---+-------+-----------+-----------------------+\n",
      "|1  |Alice  |Reading    |2023-09-22 04:51:58.956|\n",
      "|1  |Alice  |Hiking     |2023-09-22 04:51:58.956|\n",
      "|2  |Bob    |Swimming   |2023-09-22 04:51:58.956|\n",
      "|2  |Bob    |Gardening  |2023-09-22 04:51:58.956|\n",
      "|2  |Bob    |Painting   |2023-09-22 04:51:58.956|\n",
      "|3  |Charlie|Cooking    |2023-09-22 04:51:58.956|\n",
      "|4  |David  |Photography|2023-09-22 04:51:58.956|\n",
      "|4  |David  |Skiing     |2023-09-22 04:51:58.956|\n",
      "|4  |David  |Cooking    |2023-09-22 04:51:58.956|\n",
      "+---+-------+-----------+-----------------------+\n",
      "\n"
     ]
    }
   ],
   "source": [
    "df3.show(truncate=False)"
   ]
  },
  {
   "cell_type": "code",
   "execution_count": 25,
   "id": "f92412cb",
   "metadata": {},
   "outputs": [],
   "source": [
    "df_json = spark.read.json(\"/home/labuser/Desktop/Constructors.json\")"
   ]
  },
  {
   "cell_type": "code",
   "execution_count": 26,
   "id": "35f630e4",
   "metadata": {},
   "outputs": [
    {
     "name": "stdout",
     "output_type": "stream",
     "text": [
      "+-------------+--------------+-----------+-----------+--------------------+\n",
      "|constructorId|constructorRef|       name|nationality|                 url|\n",
      "+-------------+--------------+-----------+-----------+--------------------+\n",
      "|            1|       mclaren|    McLaren|    British|http://en.wikiped...|\n",
      "|            2|    bmw_sauber| BMW Sauber|     German|http://en.wikiped...|\n",
      "|            3|      williams|   Williams|    British|http://en.wikiped...|\n",
      "|            4|       renault|    Renault|     French|http://en.wikiped...|\n",
      "|            5|    toro_rosso| Toro Rosso|    Italian|http://en.wikiped...|\n",
      "|            6|       ferrari|    Ferrari|    Italian|http://en.wikiped...|\n",
      "|            7|        toyota|     Toyota|   Japanese|http://en.wikiped...|\n",
      "|            8|   super_aguri|Super Aguri|   Japanese|http://en.wikiped...|\n",
      "|            9|      red_bull|   Red Bull|   Austrian|http://en.wikiped...|\n",
      "|           10|   force_india|Force India|     Indian|http://en.wikiped...|\n",
      "|           11|         honda|      Honda|   Japanese|http://en.wikiped...|\n",
      "|           12|        spyker|     Spyker|      Dutch|http://en.wikiped...|\n",
      "|           13|           mf1|        MF1|    Russian|http://en.wikiped...|\n",
      "|           14|    spyker_mf1| Spyker MF1|      Dutch|http://en.wikiped...|\n",
      "|           15|        sauber|     Sauber|      Swiss|http://en.wikiped...|\n",
      "|           16|           bar|        BAR|    British|http://en.wikiped...|\n",
      "|           17|        jordan|     Jordan|      Irish|http://en.wikiped...|\n",
      "|           18|       minardi|    Minardi|    Italian|http://en.wikiped...|\n",
      "|           19|        jaguar|     Jaguar|    British|http://en.wikiped...|\n",
      "|           20|         prost|      Prost|     French|http://en.wikiped...|\n",
      "+-------------+--------------+-----------+-----------+--------------------+\n",
      "only showing top 20 rows\n",
      "\n"
     ]
    }
   ],
   "source": [
    "df_json.show()"
   ]
  },
  {
   "cell_type": "code",
   "execution_count": 41,
   "id": "345fcecf",
   "metadata": {
    "scrolled": true
   },
   "outputs": [],
   "source": [
    "df_json_f=df_json.withColumn(\"Timestamp\",current_timestamp()).withColumn(\"path\",input_file_name()).drop(\"url\")"
   ]
  },
  {
   "cell_type": "code",
   "execution_count": 42,
   "id": "e9e5f5cc",
   "metadata": {},
   "outputs": [
    {
     "name": "stdout",
     "output_type": "stream",
     "text": [
      "+-------------+--------------+-----------+-----------+--------------------+--------------------+\n",
      "|constructorId|constructorRef|       name|nationality|           Timestamp|                path|\n",
      "+-------------+--------------+-----------+-----------+--------------------+--------------------+\n",
      "|            1|       mclaren|    McLaren|    British|2023-09-22 05:45:...|file:///home/labu...|\n",
      "|            2|    bmw_sauber| BMW Sauber|     German|2023-09-22 05:45:...|file:///home/labu...|\n",
      "|            3|      williams|   Williams|    British|2023-09-22 05:45:...|file:///home/labu...|\n",
      "|            4|       renault|    Renault|     French|2023-09-22 05:45:...|file:///home/labu...|\n",
      "|            5|    toro_rosso| Toro Rosso|    Italian|2023-09-22 05:45:...|file:///home/labu...|\n",
      "|            6|       ferrari|    Ferrari|    Italian|2023-09-22 05:45:...|file:///home/labu...|\n",
      "|            7|        toyota|     Toyota|   Japanese|2023-09-22 05:45:...|file:///home/labu...|\n",
      "|            8|   super_aguri|Super Aguri|   Japanese|2023-09-22 05:45:...|file:///home/labu...|\n",
      "|            9|      red_bull|   Red Bull|   Austrian|2023-09-22 05:45:...|file:///home/labu...|\n",
      "|           10|   force_india|Force India|     Indian|2023-09-22 05:45:...|file:///home/labu...|\n",
      "|           11|         honda|      Honda|   Japanese|2023-09-22 05:45:...|file:///home/labu...|\n",
      "|           12|        spyker|     Spyker|      Dutch|2023-09-22 05:45:...|file:///home/labu...|\n",
      "|           13|           mf1|        MF1|    Russian|2023-09-22 05:45:...|file:///home/labu...|\n",
      "|           14|    spyker_mf1| Spyker MF1|      Dutch|2023-09-22 05:45:...|file:///home/labu...|\n",
      "|           15|        sauber|     Sauber|      Swiss|2023-09-22 05:45:...|file:///home/labu...|\n",
      "|           16|           bar|        BAR|    British|2023-09-22 05:45:...|file:///home/labu...|\n",
      "|           17|        jordan|     Jordan|      Irish|2023-09-22 05:45:...|file:///home/labu...|\n",
      "|           18|       minardi|    Minardi|    Italian|2023-09-22 05:45:...|file:///home/labu...|\n",
      "|           19|        jaguar|     Jaguar|    British|2023-09-22 05:45:...|file:///home/labu...|\n",
      "|           20|         prost|      Prost|     French|2023-09-22 05:45:...|file:///home/labu...|\n",
      "+-------------+--------------+-----------+-----------+--------------------+--------------------+\n",
      "only showing top 20 rows\n",
      "\n"
     ]
    }
   ],
   "source": [
    "df_json_f.show()"
   ]
  },
  {
   "cell_type": "code",
   "execution_count": 62,
   "id": "280c35a3",
   "metadata": {},
   "outputs": [],
   "source": [
    "output_file =  '/home/labuser/Desktop/Constructor_Parquet'"
   ]
  },
  {
   "cell_type": "code",
   "execution_count": 43,
   "id": "fd1b788f",
   "metadata": {},
   "outputs": [
    {
     "name": "stderr",
     "output_type": "stream",
     "text": [
      "                                                                                \r"
     ]
    }
   ],
   "source": [
    "df_json_f.write.parquet(f\"{output_file}\")"
   ]
  },
  {
   "cell_type": "code",
   "execution_count": 55,
   "id": "d318da50",
   "metadata": {},
   "outputs": [],
   "source": [
    "df_json_f=df_json_f.drop(\"path\")"
   ]
  },
  {
   "cell_type": "code",
   "execution_count": 56,
   "id": "d83a7266",
   "metadata": {},
   "outputs": [
    {
     "name": "stdout",
     "output_type": "stream",
     "text": [
      "+-------------+--------------+-----------+-----------+--------------------+\n",
      "|constructorId|constructorRef|       name|nationality|           Timestamp|\n",
      "+-------------+--------------+-----------+-----------+--------------------+\n",
      "|            1|       mclaren|    McLaren|    British|2023-09-22 05:51:...|\n",
      "|            2|    bmw_sauber| BMW Sauber|     German|2023-09-22 05:51:...|\n",
      "|            3|      williams|   Williams|    British|2023-09-22 05:51:...|\n",
      "|            4|       renault|    Renault|     French|2023-09-22 05:51:...|\n",
      "|            5|    toro_rosso| Toro Rosso|    Italian|2023-09-22 05:51:...|\n",
      "|            6|       ferrari|    Ferrari|    Italian|2023-09-22 05:51:...|\n",
      "|            7|        toyota|     Toyota|   Japanese|2023-09-22 05:51:...|\n",
      "|            8|   super_aguri|Super Aguri|   Japanese|2023-09-22 05:51:...|\n",
      "|            9|      red_bull|   Red Bull|   Austrian|2023-09-22 05:51:...|\n",
      "|           10|   force_india|Force India|     Indian|2023-09-22 05:51:...|\n",
      "|           11|         honda|      Honda|   Japanese|2023-09-22 05:51:...|\n",
      "|           12|        spyker|     Spyker|      Dutch|2023-09-22 05:51:...|\n",
      "|           13|           mf1|        MF1|    Russian|2023-09-22 05:51:...|\n",
      "|           14|    spyker_mf1| Spyker MF1|      Dutch|2023-09-22 05:51:...|\n",
      "|           15|        sauber|     Sauber|      Swiss|2023-09-22 05:51:...|\n",
      "|           16|           bar|        BAR|    British|2023-09-22 05:51:...|\n",
      "|           17|        jordan|     Jordan|      Irish|2023-09-22 05:51:...|\n",
      "|           18|       minardi|    Minardi|    Italian|2023-09-22 05:51:...|\n",
      "|           19|        jaguar|     Jaguar|    British|2023-09-22 05:51:...|\n",
      "|           20|         prost|      Prost|     French|2023-09-22 05:51:...|\n",
      "+-------------+--------------+-----------+-----------+--------------------+\n",
      "only showing top 20 rows\n",
      "\n"
     ]
    }
   ],
   "source": [
    "df_json_f.show()"
   ]
  },
  {
   "cell_type": "code",
   "execution_count": 47,
   "id": "4074991e",
   "metadata": {},
   "outputs": [],
   "source": [
    "df_json_f.write.mode(\"overwrite\").parquet(f\"{output_file}\")"
   ]
  },
  {
   "cell_type": "code",
   "execution_count": 68,
   "id": "14685b0d",
   "metadata": {},
   "outputs": [],
   "source": [
    "df_json_f.write.mode(\"overwrite\").saveAsTable(\"Constructor\")"
   ]
  },
  {
   "cell_type": "code",
   "execution_count": 69,
   "id": "087cc562",
   "metadata": {},
   "outputs": [
    {
     "data": {
      "text/plain": [
       "DataFrame[constructorId: bigint, constructorRef: string, name: string, nationality: string, Timestamp: timestamp]"
      ]
     },
     "execution_count": 69,
     "metadata": {},
     "output_type": "execute_result"
    }
   ],
   "source": [
    "spark.sql(\"select * from Constructor\")"
   ]
  },
  {
   "cell_type": "code",
   "execution_count": 70,
   "id": "647d6a3e",
   "metadata": {},
   "outputs": [
    {
     "name": "stdout",
     "output_type": "stream",
     "text": [
      "+-------------+--------------+-----------+-----------+--------------------+\n",
      "|constructorId|constructorRef|       name|nationality|           Timestamp|\n",
      "+-------------+--------------+-----------+-----------+--------------------+\n",
      "|            1|       mclaren|    McLaren|    British|2023-09-22 05:58:...|\n",
      "|            2|    bmw_sauber| BMW Sauber|     German|2023-09-22 05:58:...|\n",
      "|            3|      williams|   Williams|    British|2023-09-22 05:58:...|\n",
      "|            4|       renault|    Renault|     French|2023-09-22 05:58:...|\n",
      "|            5|    toro_rosso| Toro Rosso|    Italian|2023-09-22 05:58:...|\n",
      "|            6|       ferrari|    Ferrari|    Italian|2023-09-22 05:58:...|\n",
      "|            7|        toyota|     Toyota|   Japanese|2023-09-22 05:58:...|\n",
      "|            8|   super_aguri|Super Aguri|   Japanese|2023-09-22 05:58:...|\n",
      "|            9|      red_bull|   Red Bull|   Austrian|2023-09-22 05:58:...|\n",
      "|           10|   force_india|Force India|     Indian|2023-09-22 05:58:...|\n",
      "|           11|         honda|      Honda|   Japanese|2023-09-22 05:58:...|\n",
      "|           12|        spyker|     Spyker|      Dutch|2023-09-22 05:58:...|\n",
      "|           13|           mf1|        MF1|    Russian|2023-09-22 05:58:...|\n",
      "|           14|    spyker_mf1| Spyker MF1|      Dutch|2023-09-22 05:58:...|\n",
      "|           15|        sauber|     Sauber|      Swiss|2023-09-22 05:58:...|\n",
      "|           16|           bar|        BAR|    British|2023-09-22 05:58:...|\n",
      "|           17|        jordan|     Jordan|      Irish|2023-09-22 05:58:...|\n",
      "|           18|       minardi|    Minardi|    Italian|2023-09-22 05:58:...|\n",
      "|           19|        jaguar|     Jaguar|    British|2023-09-22 05:58:...|\n",
      "|           20|         prost|      Prost|     French|2023-09-22 05:58:...|\n",
      "+-------------+--------------+-----------+-----------+--------------------+\n",
      "only showing top 20 rows\n",
      "\n"
     ]
    }
   ],
   "source": [
    "spark.sql(\"select * from Constructor\").show()"
   ]
  },
  {
   "cell_type": "code",
   "execution_count": 71,
   "id": "bc2cf6f9",
   "metadata": {},
   "outputs": [
    {
     "name": "stdout",
     "output_type": "stream",
     "text": [
      "+-------------+--------------+-----------+-----------+--------------------+\n",
      "|constructorId|constructorRef|       name|nationality|           Timestamp|\n",
      "+-------------+--------------+-----------+-----------+--------------------+\n",
      "|           10|   force_india|Force India|     Indian|2023-09-22 05:58:...|\n",
      "+-------------+--------------+-----------+-----------+--------------------+\n",
      "\n"
     ]
    }
   ],
   "source": [
    "spark.sql(\"select * from Constructor where constructorID=10\").show()"
   ]
  },
  {
   "cell_type": "code",
   "execution_count": 73,
   "id": "09fe48d7",
   "metadata": {},
   "outputs": [],
   "source": [
    "df_json_f.write.mode(\"overwrite\").option(\"path\",\"/home/labuser/Desktop/Constructor Table\").saveAsTable(\"constructor\")"
   ]
  },
  {
   "cell_type": "code",
   "execution_count": 74,
   "id": "67a8baf1",
   "metadata": {},
   "outputs": [
    {
     "name": "stdout",
     "output_type": "stream",
     "text": [
      "+-------------+--------------+-----------+-----------+--------------------+\n",
      "|constructorId|constructorRef|       name|nationality|           Timestamp|\n",
      "+-------------+--------------+-----------+-----------+--------------------+\n",
      "|           10|   force_india|Force India|     Indian|2023-09-22 06:06:...|\n",
      "+-------------+--------------+-----------+-----------+--------------------+\n",
      "\n"
     ]
    }
   ],
   "source": [
    "spark.sql(\"select * from Constructor where constructorID=10\").show()"
   ]
  },
  {
   "cell_type": "code",
   "execution_count": 84,
   "id": "b18a6007",
   "metadata": {},
   "outputs": [],
   "source": [
    "df4 = spark.read.option(\"multiline\",True).json(\"/home/labuser/Desktop/Constructor_Parquet/Pit Stop.json\")"
   ]
  },
  {
   "cell_type": "code",
   "execution_count": 85,
   "id": "adaebf7c",
   "metadata": {},
   "outputs": [
    {
     "name": "stdout",
     "output_type": "stream",
     "text": [
      "+--------+--------+---+------------+------+----+--------+\n",
      "|driverId|duration|lap|milliseconds|raceId|stop|    time|\n",
      "+--------+--------+---+------------+------+----+--------+\n",
      "|     153|  26.898|  1|       26898|   841|   1|17:05:23|\n",
      "|      30|  25.021|  1|       25021|   841|   1|17:05:52|\n",
      "|      17|  23.426| 11|       23426|   841|   1|17:20:48|\n",
      "|       4|  23.251| 12|       23251|   841|   1|17:22:34|\n",
      "|      13|  23.842| 13|       23842|   841|   1|17:24:10|\n",
      "|      22|  23.643| 13|       23643|   841|   1|17:24:29|\n",
      "|      20|  22.603| 14|       22603|   841|   1|17:25:17|\n",
      "|     814|  24.863| 14|       24863|   841|   1|17:26:03|\n",
      "|     816|  25.259| 14|       25259|   841|   1|17:26:50|\n",
      "|      67|  25.342| 15|       25342|   841|   1|17:27:34|\n",
      "|       2|  22.994| 15|       22994|   841|   1|17:27:41|\n",
      "|       1|  23.227| 16|       23227|   841|   1|17:28:24|\n",
      "|     808|  24.535| 16|       24535|   841|   1|17:28:39|\n",
      "|       3|  23.716| 16|       23716|   841|   1|17:29:00|\n",
      "|     155|  24.064| 16|       24064|   841|   1|17:29:06|\n",
      "|      16|  25.978| 16|       25978|   841|   1|17:29:08|\n",
      "|      15|  24.899| 16|       24899|   841|   1|17:29:49|\n",
      "|      18|  16.867| 17|       16867|   841|   1|17:30:24|\n",
      "|     153|  24.463| 17|       24463|   841|   2|17:31:06|\n",
      "|       5|  24.865| 17|       24865|   841|   1|17:31:11|\n",
      "+--------+--------+---+------------+------+----+--------+\n",
      "only showing top 20 rows\n",
      "\n"
     ]
    }
   ],
   "source": [
    "df4.show()"
   ]
  },
  {
   "cell_type": "code",
   "execution_count": 86,
   "id": "0f68076b",
   "metadata": {},
   "outputs": [
    {
     "name": "stdout",
     "output_type": "stream",
     "text": [
      "+--------+--------+---+------------+------+----+--------+\n",
      "|driverId|duration|lap|milliseconds|raceId|stop|    time|\n",
      "+--------+--------+---+------------+------+----+--------+\n",
      "|       1|  23.227| 16|       23227|   841|   1|17:28:24|\n",
      "|       1|  23.199| 36|       23199|   841|   2|17:59:29|\n",
      "|       2|  22.994| 15|       22994|   841|   1|17:27:41|\n",
      "|       2|  25.098| 30|       25098|   841|   2|17:51:32|\n",
      "|       3|  23.716| 16|       23716|   841|   1|17:29:00|\n",
      "|       4|  23.251| 12|       23251|   841|   1|17:22:34|\n",
      "|       4|  24.733| 27|       24733|   841|   2|17:46:04|\n",
      "|       5|  24.865| 17|       24865|   841|   1|17:31:11|\n",
      "|      10|  23.792| 18|       23792|   841|   1|17:33:02|\n",
      "|      13|  23.842| 13|       23842|   841|   1|17:24:10|\n",
      "|      13|    24.5| 31|       24500|   841|   2|17:52:28|\n",
      "|      15|  24.899| 16|       24899|   841|   1|17:29:49|\n",
      "|      15|  24.848| 37|       24848|   841|   2|18:03:55|\n",
      "|      16|  25.978| 16|       25978|   841|   1|17:29:08|\n",
      "|      16|  23.871| 37|       23871|   841|   2|18:02:15|\n",
      "|      17|  23.426| 11|       23426|   841|   1|17:20:48|\n",
      "|      17|   22.52| 26|       22520|   841|   2|17:44:29|\n",
      "|      18|  16.867| 17|       16867|   841|   1|17:30:24|\n",
      "|      18|  23.303| 19|       23303|   841|   2|17:33:53|\n",
      "|      18|  22.681| 37|       22681|   841|   3|18:01:49|\n",
      "+--------+--------+---+------------+------+----+--------+\n",
      "only showing top 20 rows\n",
      "\n"
     ]
    }
   ],
   "source": [
    "df4.sort(\"driverID\").show()"
   ]
  },
  {
   "cell_type": "code",
   "execution_count": 87,
   "id": "85de733a",
   "metadata": {},
   "outputs": [
    {
     "data": {
      "text/plain": [
       "40"
      ]
     },
     "execution_count": 87,
     "metadata": {},
     "output_type": "execute_result"
    }
   ],
   "source": [
    "df4.count()"
   ]
  },
  {
   "cell_type": "code",
   "execution_count": 88,
   "id": "e07453fe",
   "metadata": {},
   "outputs": [
    {
     "name": "stdout",
     "output_type": "stream",
     "text": [
      "+----+-----+\n",
      "|stop|count|\n",
      "+----+-----+\n",
      "|   1|   21|\n",
      "|   3|    3|\n",
      "|   2|   16|\n",
      "+----+-----+\n",
      "\n"
     ]
    }
   ],
   "source": [
    "df4.groupby(\"stop\").count().show()"
   ]
  },
  {
   "cell_type": "code",
   "execution_count": 89,
   "id": "47b064a7",
   "metadata": {},
   "outputs": [
    {
     "data": {
      "image/png": "[encoded data removed]",
      "text/plain": [
       "<Figure size 1000x600 with 1 Axes>"
      ]
     },
     "metadata": {},
     "output_type": "display_data"
    }
   ],
   "source": [
    "grouped_df = df4.groupBy('stop').count()\n",
    "\n",
    "\n",
    "import matplotlib.pyplot as plt\n",
    "\n",
    " \n",
    "pandas_df = grouped_df.toPandas()\n",
    "\n",
    "\n",
    "# Plot a bar chart\n",
    "plt.figure(figsize=(10, 6))\n",
    "plt.bar(pandas_df[\"stop\"], pandas_df[\"count\"])\n",
    "plt.xlabel(\"Stop\")\n",
    "plt.ylabel(\"Count\")\n",
    "plt.title(\"Count of Stops\")\n",
    "plt.show()"
   ]
  },
  {
   "cell_type": "code",
   "execution_count": 91,
   "id": "5850fb20",
   "metadata": {},
   "outputs": [
    {
     "data": {
      "image/png": "[encoded data removed]",
      "text/plain": [
       "<Figure size 500x700 with 1 Axes>"
      ]
     },
     "metadata": {},
     "output_type": "display_data"
    }
   ],
   "source": [
    "grouped_df = df4.groupBy('stop').count().orderBy('stop')\n",
    "\n",
    " \n",
    "\n",
    "import matplotlib.pyplot as plt\n",
    "pandas_df = grouped_df.toPandas()\n",
    "plt.figure(figsize=(5,7))\n",
    "plt.bar(pandas_df[\"stop\"].astype(str), pandas_df[\"count\"], color=\"Orange\", width=0.5)\n",
    "plt.xlabel(\"Stop\")\n",
    "plt.ylabel(\"Count\")\n",
    "plt.title(\"Count of Stops\")\n",
    "plt.show()"
   ]
  },
  {
   "cell_type": "code",
   "execution_count": 95,
   "id": "6940c66e",
   "metadata": {},
   "outputs": [
    {
     "name": "stderr",
     "output_type": "stream",
     "text": [
      "23/09/22 06:52:48 ERROR Executor: Exception in task 0.0 in stage 73.0 (TID 65)\n",
      "org.apache.spark.SparkFileNotFoundException: /home/labuser/Desktop/Constructor_Parquet/Pit Stop.json (Is a directory)\n",
      "It is possible the underlying files have been updated. You can explicitly invalidate the cache in Spark by running 'REFRESH TABLE tableName' command in SQL or by recreating the Dataset/DataFrame involved.\n",
      "\tat org.apache.spark.sql.errors.QueryExecutionErrors$.readCurrentFileNotFoundError(QueryExecutionErrors.scala:794)\n",
      "\tat org.apache.spark.sql.execution.datasources.FileScanRDD$$anon$1.org$apache$spark$sql$execution$datasources$FileScanRDD$$anon$$readCurrentFile(FileScanRDD.scala:234)\n",
      "\tat org.apache.spark.sql.execution.datasources.FileScanRDD$$anon$1.nextIterator(FileScanRDD.scala:293)\n",
      "\tat org.apache.spark.sql.execution.datasources.FileScanRDD$$anon$1.hasNext(FileScanRDD.scala:125)\n",
      "\tat scala.collection.Iterator$$anon$10.hasNext(Iterator.scala:460)\n",
      "\tat scala.collection.Iterator$$anon$10.hasNext(Iterator.scala:460)\n",
      "\tat scala.collection.Iterator$$anon$10.hasNext(Iterator.scala:460)\n",
      "\tat org.apache.spark.util.random.SamplingUtils$.reservoirSampleAndCount(SamplingUtils.scala:41)\n",
      "\tat org.apache.spark.RangePartitioner$.$anonfun$sketch$1(Partitioner.scala:322)\n",
      "\tat org.apache.spark.RangePartitioner$.$anonfun$sketch$1$adapted(Partitioner.scala:320)\n",
      "\tat org.apache.spark.rdd.RDD.$anonfun$mapPartitionsWithIndex$2(RDD.scala:905)\n",
      "\tat org.apache.spark.rdd.RDD.$anonfun$mapPartitionsWithIndex$2$adapted(RDD.scala:905)\n",
      "\tat org.apache.spark.rdd.MapPartitionsRDD.compute(MapPartitionsRDD.scala:52)\n",
      "\tat org.apache.spark.rdd.RDD.computeOrReadCheckpoint(RDD.scala:364)\n",
      "\tat org.apache.spark.rdd.RDD.iterator(RDD.scala:328)\n",
      "\tat org.apache.spark.scheduler.ResultTask.runTask(ResultTask.scala:92)\n",
      "\tat org.apache.spark.TaskContext.runTaskWithListeners(TaskContext.scala:161)\n",
      "\tat org.apache.spark.scheduler.Task.run(Task.scala:139)\n",
      "\tat org.apache.spark.executor.Executor$TaskRunner.$anonfun$run$3(Executor.scala:554)\n",
      "\tat org.apache.spark.util.Utils$.tryWithSafeFinally(Utils.scala:1529)\n",
      "\tat org.apache.spark.executor.Executor$TaskRunner.run(Executor.scala:557)\n",
      "\tat java.util.concurrent.ThreadPoolExecutor.runWorker(ThreadPoolExecutor.java:1149)\n",
      "\tat java.util.concurrent.ThreadPoolExecutor$Worker.run(ThreadPoolExecutor.java:624)\n",
      "\tat java.lang.Thread.run(Thread.java:750)\n",
      "23/09/22 06:52:48 WARN TaskSetManager: Lost task 0.0 in stage 73.0 (TID 65) (ip-172-31-0-163.ap-south-1.compute.internal executor driver): org.apache.spark.SparkFileNotFoundException: /home/labuser/Desktop/Constructor_Parquet/Pit Stop.json (Is a directory)\n",
      "It is possible the underlying files have been updated. You can explicitly invalidate the cache in Spark by running 'REFRESH TABLE tableName' command in SQL or by recreating the Dataset/DataFrame involved.\n",
      "\tat org.apache.spark.sql.errors.QueryExecutionErrors$.readCurrentFileNotFoundError(QueryExecutionErrors.scala:794)\n",
      "\tat org.apache.spark.sql.execution.datasources.FileScanRDD$$anon$1.org$apache$spark$sql$execution$datasources$FileScanRDD$$anon$$readCurrentFile(FileScanRDD.scala:234)\n",
      "\tat org.apache.spark.sql.execution.datasources.FileScanRDD$$anon$1.nextIterator(FileScanRDD.scala:293)\n",
      "\tat org.apache.spark.sql.execution.datasources.FileScanRDD$$anon$1.hasNext(FileScanRDD.scala:125)\n",
      "\tat scala.collection.Iterator$$anon$10.hasNext(Iterator.scala:460)\n",
      "\tat scala.collection.Iterator$$anon$10.hasNext(Iterator.scala:460)\n",
      "\tat scala.collection.Iterator$$anon$10.hasNext(Iterator.scala:460)\n",
      "\tat org.apache.spark.util.random.SamplingUtils$.reservoirSampleAndCount(SamplingUtils.scala:41)\n",
      "\tat org.apache.spark.RangePartitioner$.$anonfun$sketch$1(Partitioner.scala:322)\n",
      "\tat org.apache.spark.RangePartitioner$.$anonfun$sketch$1$adapted(Partitioner.scala:320)\n",
      "\tat org.apache.spark.rdd.RDD.$anonfun$mapPartitionsWithIndex$2(RDD.scala:905)\n",
      "\tat org.apache.spark.rdd.RDD.$anonfun$mapPartitionsWithIndex$2$adapted(RDD.scala:905)\n",
      "\tat org.apache.spark.rdd.MapPartitionsRDD.compute(MapPartitionsRDD.scala:52)\n",
      "\tat org.apache.spark.rdd.RDD.computeOrReadCheckpoint(RDD.scala:364)\n",
      "\tat org.apache.spark.rdd.RDD.iterator(RDD.scala:328)\n",
      "\tat org.apache.spark.scheduler.ResultTask.runTask(ResultTask.scala:92)\n",
      "\tat org.apache.spark.TaskContext.runTaskWithListeners(TaskContext.scala:161)\n",
      "\tat org.apache.spark.scheduler.Task.run(Task.scala:139)\n",
      "\tat org.apache.spark.executor.Executor$TaskRunner.$anonfun$run$3(Executor.scala:554)\n",
      "\tat org.apache.spark.util.Utils$.tryWithSafeFinally(Utils.scala:1529)\n",
      "\tat org.apache.spark.executor.Executor$TaskRunner.run(Executor.scala:557)\n",
      "\tat java.util.concurrent.ThreadPoolExecutor.runWorker(ThreadPoolExecutor.java:1149)\n",
      "\tat java.util.concurrent.ThreadPoolExecutor$Worker.run(ThreadPoolExecutor.java:624)\n",
      "\tat java.lang.Thread.run(Thread.java:750)\n",
      "\n",
      "23/09/22 06:52:48 ERROR TaskSetManager: Task 0 in stage 73.0 failed 1 times; aborting job\n"
     ]
    },
    {
     "ename": "Py4JJavaError",
     "evalue": "An error occurred while calling o354.saveAsTable.\n: org.apache.spark.SparkException: Job aborted due to stage failure: Task 0 in stage 73.0 failed 1 times, most recent failure: Lost task 0.0 in stage 73.0 (TID 65) (ip-172-31-0-163.ap-south-1.compute.internal executor driver): org.apache.spark.SparkFileNotFoundException: /home/labuser/Desktop/Constructor_Parquet/Pit Stop.json (Is a directory)\nIt is possible the underlying files have been updated. You can explicitly invalidate the cache in Spark by running 'REFRESH TABLE tableName' command in SQL or by recreating the Dataset/DataFrame involved.\n\tat org.apache.spark.sql.errors.QueryExecutionErrors$.readCurrentFileNotFoundError(QueryExecutionErrors.scala:794)\n\tat org.apache.spark.sql.execution.datasources.FileScanRDD$$anon$1.org$apache$spark$sql$execution$datasources$FileScanRDD$$anon$$readCurrentFile(FileScanRDD.scala:234)\n\tat org.apache.spark.sql.execution.datasources.FileScanRDD$$anon$1.nextIterator(FileScanRDD.scala:293)\n\tat org.apache.spark.sql.execution.datasources.FileScanRDD$$anon$1.hasNext(FileScanRDD.scala:125)\n\tat scala.collection.Iterator$$anon$10.hasNext(Iterator.scala:460)\n\tat scala.collection.Iterator$$anon$10.hasNext(Iterator.scala:460)\n\tat scala.collection.Iterator$$anon$10.hasNext(Iterator.scala:460)\n\tat org.apache.spark.util.random.SamplingUtils$.reservoirSampleAndCount(SamplingUtils.scala:41)\n\tat org.apache.spark.RangePartitioner$.$anonfun$sketch$1(Partitioner.scala:322)\n\tat org.apache.spark.RangePartitioner$.$anonfun$sketch$1$adapted(Partitioner.scala:320)\n\tat org.apache.spark.rdd.RDD.$anonfun$mapPartitionsWithIndex$2(RDD.scala:905)\n\tat org.apache.spark.rdd.RDD.$anonfun$mapPartitionsWithIndex$2$adapted(RDD.scala:905)\n\tat org.apache.spark.rdd.MapPartitionsRDD.compute(MapPartitionsRDD.scala:52)\n\tat org.apache.spark.rdd.RDD.computeOrReadCheckpoint(RDD.scala:364)\n\tat org.apache.spark.rdd.RDD.iterator(RDD.scala:328)\n\tat org.apache.spark.scheduler.ResultTask.runTask(ResultTask.scala:92)\n\tat org.apache.spark.TaskContext.runTaskWithListeners(TaskContext.scala:161)\n\tat org.apache.spark.scheduler.Task.run(Task.scala:139)\n\tat org.apache.spark.executor.Executor$TaskRunner.$anonfun$run$3(Executor.scala:554)\n\tat org.apache.spark.util.Utils$.tryWithSafeFinally(Utils.scala:1529)\n\tat org.apache.spark.executor.Executor$TaskRunner.run(Executor.scala:557)\n\tat java.util.concurrent.ThreadPoolExecutor.runWorker(ThreadPoolExecutor.java:1149)\n\tat java.util.concurrent.ThreadPoolExecutor$Worker.run(ThreadPoolExecutor.java:624)\n\tat java.lang.Thread.run(Thread.java:750)\n\nDriver stacktrace:\n\tat org.apache.spark.scheduler.DAGScheduler.failJobAndIndependentStages(DAGScheduler.scala:2785)\n\tat org.apache.spark.scheduler.DAGScheduler.$anonfun$abortStage$2(DAGScheduler.scala:2721)\n\tat org.apache.spark.scheduler.DAGScheduler.$anonfun$abortStage$2$adapted(DAGScheduler.scala:2720)\n\tat scala.collection.mutable.ResizableArray.foreach(ResizableArray.scala:62)\n\tat scala.collection.mutable.ResizableArray.foreach$(ResizableArray.scala:55)\n\tat scala.collection.mutable.ArrayBuffer.foreach(ArrayBuffer.scala:49)\n\tat org.apache.spark.scheduler.DAGScheduler.abortStage(DAGScheduler.scala:2720)\n\tat org.apache.spark.scheduler.DAGScheduler.$anonfun$handleTaskSetFailed$1(DAGScheduler.scala:1206)\n\tat org.apache.spark.scheduler.DAGScheduler.$anonfun$handleTaskSetFailed$1$adapted(DAGScheduler.scala:1206)\n\tat scala.Option.foreach(Option.scala:407)\n\tat org.apache.spark.scheduler.DAGScheduler.handleTaskSetFailed(DAGScheduler.scala:1206)\n\tat org.apache.spark.scheduler.DAGSchedulerEventProcessLoop.doOnReceive(DAGScheduler.scala:2984)\n\tat org.apache.spark.scheduler.DAGSchedulerEventProcessLoop.onReceive(DAGScheduler.scala:2923)\n\tat org.apache.spark.scheduler.DAGSchedulerEventProcessLoop.onReceive(DAGScheduler.scala:2912)\n\tat org.apache.spark.util.EventLoop$$anon$1.run(EventLoop.scala:49)\n\tat org.apache.spark.scheduler.DAGScheduler.runJob(DAGScheduler.scala:971)\n\tat org.apache.spark.SparkContext.runJob(SparkContext.scala:2263)\n\tat org.apache.spark.SparkContext.runJob(SparkContext.scala:2284)\n\tat org.apache.spark.SparkContext.runJob(SparkContext.scala:2303)\n\tat org.apache.spark.SparkContext.runJob(SparkContext.scala:2328)\n\tat org.apache.spark.rdd.RDD.$anonfun$collect$1(RDD.scala:1019)\n\tat org.apache.spark.rdd.RDDOperationScope$.withScope(RDDOperationScope.scala:151)\n\tat org.apache.spark.rdd.RDDOperationScope$.withScope(RDDOperationScope.scala:112)\n\tat org.apache.spark.rdd.RDD.withScope(RDD.scala:405)\n\tat org.apache.spark.rdd.RDD.collect(RDD.scala:1018)\n\tat org.apache.spark.RangePartitioner$.sketch(Partitioner.scala:320)\n\tat org.apache.spark.RangePartitioner.<init>(Partitioner.scala:187)\n\tat org.apache.spark.sql.execution.exchange.ShuffleExchangeExec$.prepareShuffleDependency(ShuffleExchangeExec.scala:290)\n\tat org.apache.spark.sql.execution.exchange.ShuffleExchangeExec.shuffleDependency$lzycompute(ShuffleExchangeExec.scala:173)\n\tat org.apache.spark.sql.execution.exchange.ShuffleExchangeExec.shuffleDependency(ShuffleExchangeExec.scala:167)\n\tat org.apache.spark.sql.execution.exchange.ShuffleExchangeExec.mapOutputStatisticsFuture$lzycompute(ShuffleExchangeExec.scala:143)\n\tat org.apache.spark.sql.execution.exchange.ShuffleExchangeExec.mapOutputStatisticsFuture(ShuffleExchangeExec.scala:139)\n\tat org.apache.spark.sql.execution.exchange.ShuffleExchangeLike.$anonfun$submitShuffleJob$1(ShuffleExchangeExec.scala:68)\n\tat org.apache.spark.sql.execution.SparkPlan.$anonfun$executeQuery$1(SparkPlan.scala:246)\n\tat org.apache.spark.rdd.RDDOperationScope$.withScope(RDDOperationScope.scala:151)\n\tat org.apache.spark.sql.execution.SparkPlan.executeQuery(SparkPlan.scala:243)\n\tat org.apache.spark.sql.execution.exchange.ShuffleExchangeLike.submitShuffleJob(ShuffleExchangeExec.scala:68)\n\tat org.apache.spark.sql.execution.exchange.ShuffleExchangeLike.submitShuffleJob$(ShuffleExchangeExec.scala:67)\n\tat org.apache.spark.sql.execution.exchange.ShuffleExchangeExec.submitShuffleJob(ShuffleExchangeExec.scala:115)\n\tat org.apache.spark.sql.execution.adaptive.ShuffleQueryStageExec.shuffleFuture$lzycompute(QueryStageExec.scala:181)\n\tat org.apache.spark.sql.execution.adaptive.ShuffleQueryStageExec.shuffleFuture(QueryStageExec.scala:181)\n\tat org.apache.spark.sql.execution.adaptive.ShuffleQueryStageExec.doMaterialize(QueryStageExec.scala:183)\n\tat org.apache.spark.sql.execution.adaptive.QueryStageExec.materialize(QueryStageExec.scala:82)\n\tat org.apache.spark.sql.execution.adaptive.AdaptiveSparkPlanExec.$anonfun$getFinalPhysicalPlan$5(AdaptiveSparkPlanExec.scala:266)\n\tat org.apache.spark.sql.execution.adaptive.AdaptiveSparkPlanExec.$anonfun$getFinalPhysicalPlan$5$adapted(AdaptiveSparkPlanExec.scala:264)\n\tat scala.collection.Iterator.foreach(Iterator.scala:943)\n\tat scala.collection.Iterator.foreach$(Iterator.scala:943)\n\tat scala.collection.AbstractIterator.foreach(Iterator.scala:1431)\n\tat scala.collection.IterableLike.foreach(IterableLike.scala:74)\n\tat scala.collection.IterableLike.foreach$(IterableLike.scala:73)\n\tat scala.collection.AbstractIterable.foreach(Iterable.scala:56)\n\tat org.apache.spark.sql.execution.adaptive.AdaptiveSparkPlanExec.$anonfun$getFinalPhysicalPlan$1(AdaptiveSparkPlanExec.scala:264)\n\tat org.apache.spark.sql.SparkSession.withActive(SparkSession.scala:827)\n\tat org.apache.spark.sql.execution.adaptive.AdaptiveSparkPlanExec.getFinalPhysicalPlan(AdaptiveSparkPlanExec.scala:236)\n\tat org.apache.spark.sql.execution.adaptive.AdaptiveSparkPlanExec.withFinalPlanUpdate(AdaptiveSparkPlanExec.scala:381)\n\tat org.apache.spark.sql.execution.adaptive.AdaptiveSparkPlanExec.executeCollect(AdaptiveSparkPlanExec.scala:354)\n\tat org.apache.spark.sql.execution.QueryExecution$$anonfun$eagerlyExecuteCommands$1.$anonfun$applyOrElse$1(QueryExecution.scala:98)\n\tat org.apache.spark.sql.execution.SQLExecution$.$anonfun$withNewExecutionId$6(SQLExecution.scala:118)\n\tat org.apache.spark.sql.execution.SQLExecution$.withSQLConfPropagated(SQLExecution.scala:195)\n\tat org.apache.spark.sql.execution.SQLExecution$.$anonfun$withNewExecutionId$1(SQLExecution.scala:103)\n\tat org.apache.spark.sql.SparkSession.withActive(SparkSession.scala:827)\n\tat org.apache.spark.sql.execution.SQLExecution$.withNewExecutionId(SQLExecution.scala:65)\n\tat org.apache.spark.sql.execution.QueryExecution$$anonfun$eagerlyExecuteCommands$1.applyOrElse(QueryExecution.scala:98)\n\tat org.apache.spark.sql.execution.QueryExecution$$anonfun$eagerlyExecuteCommands$1.applyOrElse(QueryExecution.scala:94)\n\tat org.apache.spark.sql.catalyst.trees.TreeNode.$anonfun$transformDownWithPruning$1(TreeNode.scala:512)\n\tat org.apache.spark.sql.catalyst.trees.CurrentOrigin$.withOrigin(TreeNode.scala:104)\n\tat org.apache.spark.sql.catalyst.trees.TreeNode.transformDownWithPruning(TreeNode.scala:512)\n\tat org.apache.spark.sql.catalyst.plans.logical.LogicalPlan.org$apache$spark$sql$catalyst$plans$logical$AnalysisHelper$$super$transformDownWithPruning(LogicalPlan.scala:31)\n\tat org.apache.spark.sql.catalyst.plans.logical.AnalysisHelper.transformDownWithPruning(AnalysisHelper.scala:267)\n\tat org.apache.spark.sql.catalyst.plans.logical.AnalysisHelper.transformDownWithPruning$(AnalysisHelper.scala:263)\n\tat org.apache.spark.sql.catalyst.plans.logical.LogicalPlan.transformDownWithPruning(LogicalPlan.scala:31)\n\tat org.apache.spark.sql.catalyst.plans.logical.LogicalPlan.transformDownWithPruning(LogicalPlan.scala:31)\n\tat org.apache.spark.sql.catalyst.trees.TreeNode.transformDown(TreeNode.scala:488)\n\tat org.apache.spark.sql.execution.QueryExecution.eagerlyExecuteCommands(QueryExecution.scala:94)\n\tat org.apache.spark.sql.execution.QueryExecution.commandExecuted$lzycompute(QueryExecution.scala:81)\n\tat org.apache.spark.sql.execution.QueryExecution.commandExecuted(QueryExecution.scala:79)\n\tat org.apache.spark.sql.execution.QueryExecution.assertCommandExecuted(QueryExecution.scala:133)\n\tat org.apache.spark.sql.execution.datasources.DataSource.writeAndRead(DataSource.scala:511)\n\tat org.apache.spark.sql.execution.command.CreateDataSourceTableAsSelectCommand.saveDataIntoTable(createDataSourceTables.scala:228)\n\tat org.apache.spark.sql.execution.command.CreateDataSourceTableAsSelectCommand.run(createDataSourceTables.scala:183)\n\tat org.apache.spark.sql.execution.command.ExecutedCommandExec.sideEffectResult$lzycompute(commands.scala:75)\n\tat org.apache.spark.sql.execution.command.ExecutedCommandExec.sideEffectResult(commands.scala:73)\n\tat org.apache.spark.sql.execution.command.ExecutedCommandExec.executeCollect(commands.scala:84)\n\tat org.apache.spark.sql.execution.QueryExecution$$anonfun$eagerlyExecuteCommands$1.$anonfun$applyOrElse$1(QueryExecution.scala:98)\n\tat org.apache.spark.sql.execution.SQLExecution$.$anonfun$withNewExecutionId$6(SQLExecution.scala:118)\n\tat org.apache.spark.sql.execution.SQLExecution$.withSQLConfPropagated(SQLExecution.scala:195)\n\tat org.apache.spark.sql.execution.SQLExecution$.$anonfun$withNewExecutionId$1(SQLExecution.scala:103)\n\tat org.apache.spark.sql.SparkSession.withActive(SparkSession.scala:827)\n\tat org.apache.spark.sql.execution.SQLExecution$.withNewExecutionId(SQLExecution.scala:65)\n\tat org.apache.spark.sql.execution.QueryExecution$$anonfun$eagerlyExecuteCommands$1.applyOrElse(QueryExecution.scala:98)\n\tat org.apache.spark.sql.execution.QueryExecution$$anonfun$eagerlyExecuteCommands$1.applyOrElse(QueryExecution.scala:94)\n\tat org.apache.spark.sql.catalyst.trees.TreeNode.$anonfun$transformDownWithPruning$1(TreeNode.scala:512)\n\tat org.apache.spark.sql.catalyst.trees.CurrentOrigin$.withOrigin(TreeNode.scala:104)\n\tat org.apache.spark.sql.catalyst.trees.TreeNode.transformDownWithPruning(TreeNode.scala:512)\n\tat org.apache.spark.sql.catalyst.plans.logical.LogicalPlan.org$apache$spark$sql$catalyst$plans$logical$AnalysisHelper$$super$transformDownWithPruning(LogicalPlan.scala:31)\n\tat org.apache.spark.sql.catalyst.plans.logical.AnalysisHelper.transformDownWithPruning(AnalysisHelper.scala:267)\n\tat org.apache.spark.sql.catalyst.plans.logical.AnalysisHelper.transformDownWithPruning$(AnalysisHelper.scala:263)\n\tat org.apache.spark.sql.catalyst.plans.logical.LogicalPlan.transformDownWithPruning(LogicalPlan.scala:31)\n\tat org.apache.spark.sql.catalyst.plans.logical.LogicalPlan.transformDownWithPruning(LogicalPlan.scala:31)\n\tat org.apache.spark.sql.catalyst.trees.TreeNode.transformDown(TreeNode.scala:488)\n\tat org.apache.spark.sql.execution.QueryExecution.eagerlyExecuteCommands(QueryExecution.scala:94)\n\tat org.apache.spark.sql.execution.QueryExecution.commandExecuted$lzycompute(QueryExecution.scala:81)\n\tat org.apache.spark.sql.execution.QueryExecution.commandExecuted(QueryExecution.scala:79)\n\tat org.apache.spark.sql.execution.QueryExecution.assertCommandExecuted(QueryExecution.scala:133)\n\tat org.apache.spark.sql.DataFrameWriter.runCommand(DataFrameWriter.scala:856)\n\tat org.apache.spark.sql.DataFrameWriter.createTable(DataFrameWriter.scala:697)\n\tat org.apache.spark.sql.DataFrameWriter.saveAsTable(DataFrameWriter.scala:675)\n\tat org.apache.spark.sql.DataFrameWriter.saveAsTable(DataFrameWriter.scala:570)\n\tat sun.reflect.NativeMethodAccessorImpl.invoke0(Native Method)\n\tat sun.reflect.NativeMethodAccessorImpl.invoke(NativeMethodAccessorImpl.java:62)\n\tat sun.reflect.DelegatingMethodAccessorImpl.invoke(DelegatingMethodAccessorImpl.java:43)\n\tat java.lang.reflect.Method.invoke(Method.java:498)\n\tat py4j.reflection.MethodInvoker.invoke(MethodInvoker.java:244)\n\tat py4j.reflection.ReflectionEngine.invoke(ReflectionEngine.java:374)\n\tat py4j.Gateway.invoke(Gateway.java:282)\n\tat py4j.commands.AbstractCommand.invokeMethod(AbstractCommand.java:132)\n\tat py4j.commands.CallCommand.execute(CallCommand.java:79)\n\tat py4j.ClientServerConnection.waitForCommands(ClientServerConnection.java:182)\n\tat py4j.ClientServerConnection.run(ClientServerConnection.java:106)\n\tat java.lang.Thread.run(Thread.java:750)\nCaused by: org.apache.spark.SparkFileNotFoundException: /home/labuser/Desktop/Constructor_Parquet/Pit Stop.json (Is a directory)\nIt is possible the underlying files have been updated. You can explicitly invalidate the cache in Spark by running 'REFRESH TABLE tableName' command in SQL or by recreating the Dataset/DataFrame involved.\n\tat org.apache.spark.sql.errors.QueryExecutionErrors$.readCurrentFileNotFoundError(QueryExecutionErrors.scala:794)\n\tat org.apache.spark.sql.execution.datasources.FileScanRDD$$anon$1.org$apache$spark$sql$execution$datasources$FileScanRDD$$anon$$readCurrentFile(FileScanRDD.scala:234)\n\tat org.apache.spark.sql.execution.datasources.FileScanRDD$$anon$1.nextIterator(FileScanRDD.scala:293)\n\tat org.apache.spark.sql.execution.datasources.FileScanRDD$$anon$1.hasNext(FileScanRDD.scala:125)\n\tat scala.collection.Iterator$$anon$10.hasNext(Iterator.scala:460)\n\tat scala.collection.Iterator$$anon$10.hasNext(Iterator.scala:460)\n\tat scala.collection.Iterator$$anon$10.hasNext(Iterator.scala:460)\n\tat org.apache.spark.util.random.SamplingUtils$.reservoirSampleAndCount(SamplingUtils.scala:41)\n\tat org.apache.spark.RangePartitioner$.$anonfun$sketch$1(Partitioner.scala:322)\n\tat org.apache.spark.RangePartitioner$.$anonfun$sketch$1$adapted(Partitioner.scala:320)\n\tat org.apache.spark.rdd.RDD.$anonfun$mapPartitionsWithIndex$2(RDD.scala:905)\n\tat org.apache.spark.rdd.RDD.$anonfun$mapPartitionsWithIndex$2$adapted(RDD.scala:905)\n\tat org.apache.spark.rdd.MapPartitionsRDD.compute(MapPartitionsRDD.scala:52)\n\tat org.apache.spark.rdd.RDD.computeOrReadCheckpoint(RDD.scala:364)\n\tat org.apache.spark.rdd.RDD.iterator(RDD.scala:328)\n\tat org.apache.spark.scheduler.ResultTask.runTask(ResultTask.scala:92)\n\tat org.apache.spark.TaskContext.runTaskWithListeners(TaskContext.scala:161)\n\tat org.apache.spark.scheduler.Task.run(Task.scala:139)\n\tat org.apache.spark.executor.Executor$TaskRunner.$anonfun$run$3(Executor.scala:554)\n\tat org.apache.spark.util.Utils$.tryWithSafeFinally(Utils.scala:1529)\n\tat org.apache.spark.executor.Executor$TaskRunner.run(Executor.scala:557)\n\tat java.util.concurrent.ThreadPoolExecutor.runWorker(ThreadPoolExecutor.java:1149)\n\tat java.util.concurrent.ThreadPoolExecutor$Worker.run(ThreadPoolExecutor.java:624)\n\t... 1 more\n",
     "output_type": "error",
     "traceback": [
      "\u001b[0;31m---------------------------------------------------------------------------\u001b[0m",
      "\u001b[0;31mPy4JJavaError\u001b[0m                             Traceback (most recent call last)",
      "Cell \u001b[0;32mIn[95], line 1\u001b[0m\n\u001b[0;32m----> 1\u001b[0m df4\u001b[38;5;241m.\u001b[39msort(\u001b[38;5;124m\"\u001b[39m\u001b[38;5;124mdriverId\u001b[39m\u001b[38;5;124m\"\u001b[39m)\u001b[38;5;241m.\u001b[39mwrite\u001b[38;5;241m.\u001b[39mmode(\u001b[38;5;124m'\u001b[39m\u001b[38;5;124moverwrite\u001b[39m\u001b[38;5;124m'\u001b[39m)\u001b[38;5;241m.\u001b[39moption(\u001b[38;5;124m\"\u001b[39m\u001b[38;5;124mpath\u001b[39m\u001b[38;5;124m\"\u001b[39m,\u001b[38;5;124m'\u001b[39m\u001b[38;5;124m/home/labuser/Desktop/Constructor_Parquet/Pit Stop.json\u001b[39m\u001b[38;5;124m'\u001b[39m)\u001b[38;5;241m.\u001b[39msaveAsTable(\u001b[38;5;124m\"\u001b[39m\u001b[38;5;124mpitlogs\u001b[39m\u001b[38;5;124m\"\u001b[39m)\n",
      "File \u001b[0;32m/opt/anaconda3/lib/python3.11/site-packages/pyspark/sql/readwriter.py:1521\u001b[0m, in \u001b[0;36mDataFrameWriter.saveAsTable\u001b[0;34m(self, name, format, mode, partitionBy, **options)\u001b[0m\n\u001b[1;32m   1519\u001b[0m \u001b[38;5;28;01mif\u001b[39;00m \u001b[38;5;28mformat\u001b[39m \u001b[38;5;129;01mis\u001b[39;00m \u001b[38;5;129;01mnot\u001b[39;00m \u001b[38;5;28;01mNone\u001b[39;00m:\n\u001b[1;32m   1520\u001b[0m     \u001b[38;5;28mself\u001b[39m\u001b[38;5;241m.\u001b[39mformat(\u001b[38;5;28mformat\u001b[39m)\n\u001b[0;32m-> 1521\u001b[0m \u001b[38;5;28mself\u001b[39m\u001b[38;5;241m.\u001b[39m_jwrite\u001b[38;5;241m.\u001b[39msaveAsTable(name)\n",
      "File \u001b[0;32m/opt/anaconda3/lib/python3.11/site-packages/py4j/java_gateway.py:1322\u001b[0m, in \u001b[0;36mJavaMember.__call__\u001b[0;34m(self, *args)\u001b[0m\n\u001b[1;32m   1316\u001b[0m command \u001b[38;5;241m=\u001b[39m proto\u001b[38;5;241m.\u001b[39mCALL_COMMAND_NAME \u001b[38;5;241m+\u001b[39m\\\n\u001b[1;32m   1317\u001b[0m     \u001b[38;5;28mself\u001b[39m\u001b[38;5;241m.\u001b[39mcommand_header \u001b[38;5;241m+\u001b[39m\\\n\u001b[1;32m   1318\u001b[0m     args_command \u001b[38;5;241m+\u001b[39m\\\n\u001b[1;32m   1319\u001b[0m     proto\u001b[38;5;241m.\u001b[39mEND_COMMAND_PART\n\u001b[1;32m   1321\u001b[0m answer \u001b[38;5;241m=\u001b[39m \u001b[38;5;28mself\u001b[39m\u001b[38;5;241m.\u001b[39mgateway_client\u001b[38;5;241m.\u001b[39msend_command(command)\n\u001b[0;32m-> 1322\u001b[0m return_value \u001b[38;5;241m=\u001b[39m get_return_value(\n\u001b[1;32m   1323\u001b[0m     answer, \u001b[38;5;28mself\u001b[39m\u001b[38;5;241m.\u001b[39mgateway_client, \u001b[38;5;28mself\u001b[39m\u001b[38;5;241m.\u001b[39mtarget_id, \u001b[38;5;28mself\u001b[39m\u001b[38;5;241m.\u001b[39mname)\n\u001b[1;32m   1325\u001b[0m \u001b[38;5;28;01mfor\u001b[39;00m temp_arg \u001b[38;5;129;01min\u001b[39;00m temp_args:\n\u001b[1;32m   1326\u001b[0m     \u001b[38;5;28;01mif\u001b[39;00m \u001b[38;5;28mhasattr\u001b[39m(temp_arg, \u001b[38;5;124m\"\u001b[39m\u001b[38;5;124m_detach\u001b[39m\u001b[38;5;124m\"\u001b[39m):\n",
      "File \u001b[0;32m/opt/anaconda3/lib/python3.11/site-packages/pyspark/errors/exceptions/captured.py:169\u001b[0m, in \u001b[0;36mcapture_sql_exception.<locals>.deco\u001b[0;34m(*a, **kw)\u001b[0m\n\u001b[1;32m    167\u001b[0m \u001b[38;5;28;01mdef\u001b[39;00m \u001b[38;5;21mdeco\u001b[39m(\u001b[38;5;241m*\u001b[39ma: Any, \u001b[38;5;241m*\u001b[39m\u001b[38;5;241m*\u001b[39mkw: Any) \u001b[38;5;241m-\u001b[39m\u001b[38;5;241m>\u001b[39m Any:\n\u001b[1;32m    168\u001b[0m     \u001b[38;5;28;01mtry\u001b[39;00m:\n\u001b[0;32m--> 169\u001b[0m         \u001b[38;5;28;01mreturn\u001b[39;00m f(\u001b[38;5;241m*\u001b[39ma, \u001b[38;5;241m*\u001b[39m\u001b[38;5;241m*\u001b[39mkw)\n\u001b[1;32m    170\u001b[0m     \u001b[38;5;28;01mexcept\u001b[39;00m Py4JJavaError \u001b[38;5;28;01mas\u001b[39;00m e:\n\u001b[1;32m    171\u001b[0m         converted \u001b[38;5;241m=\u001b[39m convert_exception(e\u001b[38;5;241m.\u001b[39mjava_exception)\n",
      "File \u001b[0;32m/opt/anaconda3/lib/python3.11/site-packages/py4j/protocol.py:326\u001b[0m, in \u001b[0;36mget_return_value\u001b[0;34m(answer, gateway_client, target_id, name)\u001b[0m\n\u001b[1;32m    324\u001b[0m value \u001b[38;5;241m=\u001b[39m OUTPUT_CONVERTER[\u001b[38;5;28mtype\u001b[39m](answer[\u001b[38;5;241m2\u001b[39m:], gateway_client)\n\u001b[1;32m    325\u001b[0m \u001b[38;5;28;01mif\u001b[39;00m answer[\u001b[38;5;241m1\u001b[39m] \u001b[38;5;241m==\u001b[39m REFERENCE_TYPE:\n\u001b[0;32m--> 326\u001b[0m     \u001b[38;5;28;01mraise\u001b[39;00m Py4JJavaError(\n\u001b[1;32m    327\u001b[0m         \u001b[38;5;124m\"\u001b[39m\u001b[38;5;124mAn error occurred while calling \u001b[39m\u001b[38;5;132;01m{0}\u001b[39;00m\u001b[38;5;132;01m{1}\u001b[39;00m\u001b[38;5;132;01m{2}\u001b[39;00m\u001b[38;5;124m.\u001b[39m\u001b[38;5;130;01m\\n\u001b[39;00m\u001b[38;5;124m\"\u001b[39m\u001b[38;5;241m.\u001b[39m\n\u001b[1;32m    328\u001b[0m         \u001b[38;5;28mformat\u001b[39m(target_id, \u001b[38;5;124m\"\u001b[39m\u001b[38;5;124m.\u001b[39m\u001b[38;5;124m\"\u001b[39m, name), value)\n\u001b[1;32m    329\u001b[0m \u001b[38;5;28;01melse\u001b[39;00m:\n\u001b[1;32m    330\u001b[0m     \u001b[38;5;28;01mraise\u001b[39;00m Py4JError(\n\u001b[1;32m    331\u001b[0m         \u001b[38;5;124m\"\u001b[39m\u001b[38;5;124mAn error occurred while calling \u001b[39m\u001b[38;5;132;01m{0}\u001b[39;00m\u001b[38;5;132;01m{1}\u001b[39;00m\u001b[38;5;132;01m{2}\u001b[39;00m\u001b[38;5;124m. Trace:\u001b[39m\u001b[38;5;130;01m\\n\u001b[39;00m\u001b[38;5;132;01m{3}\u001b[39;00m\u001b[38;5;130;01m\\n\u001b[39;00m\u001b[38;5;124m\"\u001b[39m\u001b[38;5;241m.\u001b[39m\n\u001b[1;32m    332\u001b[0m         \u001b[38;5;28mformat\u001b[39m(target_id, \u001b[38;5;124m\"\u001b[39m\u001b[38;5;124m.\u001b[39m\u001b[38;5;124m\"\u001b[39m, name, value))\n",
      "\u001b[0;31mPy4JJavaError\u001b[0m: An error occurred while calling o354.saveAsTable.\n: org.apache.spark.SparkException: Job aborted due to stage failure: Task 0 in stage 73.0 failed 1 times, most recent failure: Lost task 0.0 in stage 73.0 (TID 65) (ip-172-31-0-163.ap-south-1.compute.internal executor driver): org.apache.spark.SparkFileNotFoundException: /home/labuser/Desktop/Constructor_Parquet/Pit Stop.json (Is a directory)\nIt is possible the underlying files have been updated. You can explicitly invalidate the cache in Spark by running 'REFRESH TABLE tableName' command in SQL or by recreating the Dataset/DataFrame involved.\n\tat org.apache.spark.sql.errors.QueryExecutionErrors$.readCurrentFileNotFoundError(QueryExecutionErrors.scala:794)\n\tat org.apache.spark.sql.execution.datasources.FileScanRDD$$anon$1.org$apache$spark$sql$execution$datasources$FileScanRDD$$anon$$readCurrentFile(FileScanRDD.scala:234)\n\tat org.apache.spark.sql.execution.datasources.FileScanRDD$$anon$1.nextIterator(FileScanRDD.scala:293)\n\tat org.apache.spark.sql.execution.datasources.FileScanRDD$$anon$1.hasNext(FileScanRDD.scala:125)\n\tat scala.collection.Iterator$$anon$10.hasNext(Iterator.scala:460)\n\tat scala.collection.Iterator$$anon$10.hasNext(Iterator.scala:460)\n\tat scala.collection.Iterator$$anon$10.hasNext(Iterator.scala:460)\n\tat org.apache.spark.util.random.SamplingUtils$.reservoirSampleAndCount(SamplingUtils.scala:41)\n\tat org.apache.spark.RangePartitioner$.$anonfun$sketch$1(Partitioner.scala:322)\n\tat org.apache.spark.RangePartitioner$.$anonfun$sketch$1$adapted(Partitioner.scala:320)\n\tat org.apache.spark.rdd.RDD.$anonfun$mapPartitionsWithIndex$2(RDD.scala:905)\n\tat org.apache.spark.rdd.RDD.$anonfun$mapPartitionsWithIndex$2$adapted(RDD.scala:905)\n\tat org.apache.spark.rdd.MapPartitionsRDD.compute(MapPartitionsRDD.scala:52)\n\tat org.apache.spark.rdd.RDD.computeOrReadCheckpoint(RDD.scala:364)\n\tat org.apache.spark.rdd.RDD.iterator(RDD.scala:328)\n\tat org.apache.spark.scheduler.ResultTask.runTask(ResultTask.scala:92)\n\tat org.apache.spark.TaskContext.runTaskWithListeners(TaskContext.scala:161)\n\tat org.apache.spark.scheduler.Task.run(Task.scala:139)\n\tat org.apache.spark.executor.Executor$TaskRunner.$anonfun$run$3(Executor.scala:554)\n\tat org.apache.spark.util.Utils$.tryWithSafeFinally(Utils.scala:1529)\n\tat org.apache.spark.executor.Executor$TaskRunner.run(Executor.scala:557)\n\tat java.util.concurrent.ThreadPoolExecutor.runWorker(ThreadPoolExecutor.java:1149)\n\tat java.util.concurrent.ThreadPoolExecutor$Worker.run(ThreadPoolExecutor.java:624)\n\tat java.lang.Thread.run(Thread.java:750)\n\nDriver stacktrace:\n\tat org.apache.spark.scheduler.DAGScheduler.failJobAndIndependentStages(DAGScheduler.scala:2785)\n\tat org.apache.spark.scheduler.DAGScheduler.$anonfun$abortStage$2(DAGScheduler.scala:2721)\n\tat org.apache.spark.scheduler.DAGScheduler.$anonfun$abortStage$2$adapted(DAGScheduler.scala:2720)\n\tat scala.collection.mutable.ResizableArray.foreach(ResizableArray.scala:62)\n\tat scala.collection.mutable.ResizableArray.foreach$(ResizableArray.scala:55)\n\tat scala.collection.mutable.ArrayBuffer.foreach(ArrayBuffer.scala:49)\n\tat org.apache.spark.scheduler.DAGScheduler.abortStage(DAGScheduler.scala:2720)\n\tat org.apache.spark.scheduler.DAGScheduler.$anonfun$handleTaskSetFailed$1(DAGScheduler.scala:1206)\n\tat org.apache.spark.scheduler.DAGScheduler.$anonfun$handleTaskSetFailed$1$adapted(DAGScheduler.scala:1206)\n\tat scala.Option.foreach(Option.scala:407)\n\tat org.apache.spark.scheduler.DAGScheduler.handleTaskSetFailed(DAGScheduler.scala:1206)\n\tat org.apache.spark.scheduler.DAGSchedulerEventProcessLoop.doOnReceive(DAGScheduler.scala:2984)\n\tat org.apache.spark.scheduler.DAGSchedulerEventProcessLoop.onReceive(DAGScheduler.scala:2923)\n\tat org.apache.spark.scheduler.DAGSchedulerEventProcessLoop.onReceive(DAGScheduler.scala:2912)\n\tat org.apache.spark.util.EventLoop$$anon$1.run(EventLoop.scala:49)\n\tat org.apache.spark.scheduler.DAGScheduler.runJob(DAGScheduler.scala:971)\n\tat org.apache.spark.SparkContext.runJob(SparkContext.scala:2263)\n\tat org.apache.spark.SparkContext.runJob(SparkContext.scala:2284)\n\tat org.apache.spark.SparkContext.runJob(SparkContext.scala:2303)\n\tat org.apache.spark.SparkContext.runJob(SparkContext.scala:2328)\n\tat org.apache.spark.rdd.RDD.$anonfun$collect$1(RDD.scala:1019)\n\tat org.apache.spark.rdd.RDDOperationScope$.withScope(RDDOperationScope.scala:151)\n\tat org.apache.spark.rdd.RDDOperationScope$.withScope(RDDOperationScope.scala:112)\n\tat org.apache.spark.rdd.RDD.withScope(RDD.scala:405)\n\tat org.apache.spark.rdd.RDD.collect(RDD.scala:1018)\n\tat org.apache.spark.RangePartitioner$.sketch(Partitioner.scala:320)\n\tat org.apache.spark.RangePartitioner.<init>(Partitioner.scala:187)\n\tat org.apache.spark.sql.execution.exchange.ShuffleExchangeExec$.prepareShuffleDependency(ShuffleExchangeExec.scala:290)\n\tat org.apache.spark.sql.execution.exchange.ShuffleExchangeExec.shuffleDependency$lzycompute(ShuffleExchangeExec.scala:173)\n\tat org.apache.spark.sql.execution.exchange.ShuffleExchangeExec.shuffleDependency(ShuffleExchangeExec.scala:167)\n\tat org.apache.spark.sql.execution.exchange.ShuffleExchangeExec.mapOutputStatisticsFuture$lzycompute(ShuffleExchangeExec.scala:143)\n\tat org.apache.spark.sql.execution.exchange.ShuffleExchangeExec.mapOutputStatisticsFuture(ShuffleExchangeExec.scala:139)\n\tat org.apache.spark.sql.execution.exchange.ShuffleExchangeLike.$anonfun$submitShuffleJob$1(ShuffleExchangeExec.scala:68)\n\tat org.apache.spark.sql.execution.SparkPlan.$anonfun$executeQuery$1(SparkPlan.scala:246)\n\tat org.apache.spark.rdd.RDDOperationScope$.withScope(RDDOperationScope.scala:151)\n\tat org.apache.spark.sql.execution.SparkPlan.executeQuery(SparkPlan.scala:243)\n\tat org.apache.spark.sql.execution.exchange.ShuffleExchangeLike.submitShuffleJob(ShuffleExchangeExec.scala:68)\n\tat org.apache.spark.sql.execution.exchange.ShuffleExchangeLike.submitShuffleJob$(ShuffleExchangeExec.scala:67)\n\tat org.apache.spark.sql.execution.exchange.ShuffleExchangeExec.submitShuffleJob(ShuffleExchangeExec.scala:115)\n\tat org.apache.spark.sql.execution.adaptive.ShuffleQueryStageExec.shuffleFuture$lzycompute(QueryStageExec.scala:181)\n\tat org.apache.spark.sql.execution.adaptive.ShuffleQueryStageExec.shuffleFuture(QueryStageExec.scala:181)\n\tat org.apache.spark.sql.execution.adaptive.ShuffleQueryStageExec.doMaterialize(QueryStageExec.scala:183)\n\tat org.apache.spark.sql.execution.adaptive.QueryStageExec.materialize(QueryStageExec.scala:82)\n\tat org.apache.spark.sql.execution.adaptive.AdaptiveSparkPlanExec.$anonfun$getFinalPhysicalPlan$5(AdaptiveSparkPlanExec.scala:266)\n\tat org.apache.spark.sql.execution.adaptive.AdaptiveSparkPlanExec.$anonfun$getFinalPhysicalPlan$5$adapted(AdaptiveSparkPlanExec.scala:264)\n\tat scala.collection.Iterator.foreach(Iterator.scala:943)\n\tat scala.collection.Iterator.foreach$(Iterator.scala:943)\n\tat scala.collection.AbstractIterator.foreach(Iterator.scala:1431)\n\tat scala.collection.IterableLike.foreach(IterableLike.scala:74)\n\tat scala.collection.IterableLike.foreach$(IterableLike.scala:73)\n\tat scala.collection.AbstractIterable.foreach(Iterable.scala:56)\n\tat org.apache.spark.sql.execution.adaptive.AdaptiveSparkPlanExec.$anonfun$getFinalPhysicalPlan$1(AdaptiveSparkPlanExec.scala:264)\n\tat org.apache.spark.sql.SparkSession.withActive(SparkSession.scala:827)\n\tat org.apache.spark.sql.execution.adaptive.AdaptiveSparkPlanExec.getFinalPhysicalPlan(AdaptiveSparkPlanExec.scala:236)\n\tat org.apache.spark.sql.execution.adaptive.AdaptiveSparkPlanExec.withFinalPlanUpdate(AdaptiveSparkPlanExec.scala:381)\n\tat org.apache.spark.sql.execution.adaptive.AdaptiveSparkPlanExec.executeCollect(AdaptiveSparkPlanExec.scala:354)\n\tat org.apache.spark.sql.execution.QueryExecution$$anonfun$eagerlyExecuteCommands$1.$anonfun$applyOrElse$1(QueryExecution.scala:98)\n\tat org.apache.spark.sql.execution.SQLExecution$.$anonfun$withNewExecutionId$6(SQLExecution.scala:118)\n\tat org.apache.spark.sql.execution.SQLExecution$.withSQLConfPropagated(SQLExecution.scala:195)\n\tat org.apache.spark.sql.execution.SQLExecution$.$anonfun$withNewExecutionId$1(SQLExecution.scala:103)\n\tat org.apache.spark.sql.SparkSession.withActive(SparkSession.scala:827)\n\tat org.apache.spark.sql.execution.SQLExecution$.withNewExecutionId(SQLExecution.scala:65)\n\tat org.apache.spark.sql.execution.QueryExecution$$anonfun$eagerlyExecuteCommands$1.applyOrElse(QueryExecution.scala:98)\n\tat org.apache.spark.sql.execution.QueryExecution$$anonfun$eagerlyExecuteCommands$1.applyOrElse(QueryExecution.scala:94)\n\tat org.apache.spark.sql.catalyst.trees.TreeNode.$anonfun$transformDownWithPruning$1(TreeNode.scala:512)\n\tat org.apache.spark.sql.catalyst.trees.CurrentOrigin$.withOrigin(TreeNode.scala:104)\n\tat org.apache.spark.sql.catalyst.trees.TreeNode.transformDownWithPruning(TreeNode.scala:512)\n\tat org.apache.spark.sql.catalyst.plans.logical.LogicalPlan.org$apache$spark$sql$catalyst$plans$logical$AnalysisHelper$$super$transformDownWithPruning(LogicalPlan.scala:31)\n\tat org.apache.spark.sql.catalyst.plans.logical.AnalysisHelper.transformDownWithPruning(AnalysisHelper.scala:267)\n\tat org.apache.spark.sql.catalyst.plans.logical.AnalysisHelper.transformDownWithPruning$(AnalysisHelper.scala:263)\n\tat org.apache.spark.sql.catalyst.plans.logical.LogicalPlan.transformDownWithPruning(LogicalPlan.scala:31)\n\tat org.apache.spark.sql.catalyst.plans.logical.LogicalPlan.transformDownWithPruning(LogicalPlan.scala:31)\n\tat org.apache.spark.sql.catalyst.trees.TreeNode.transformDown(TreeNode.scala:488)\n\tat org.apache.spark.sql.execution.QueryExecution.eagerlyExecuteCommands(QueryExecution.scala:94)\n\tat org.apache.spark.sql.execution.QueryExecution.commandExecuted$lzycompute(QueryExecution.scala:81)\n\tat org.apache.spark.sql.execution.QueryExecution.commandExecuted(QueryExecution.scala:79)\n\tat org.apache.spark.sql.execution.QueryExecution.assertCommandExecuted(QueryExecution.scala:133)\n\tat org.apache.spark.sql.execution.datasources.DataSource.writeAndRead(DataSource.scala:511)\n\tat org.apache.spark.sql.execution.command.CreateDataSourceTableAsSelectCommand.saveDataIntoTable(createDataSourceTables.scala:228)\n\tat org.apache.spark.sql.execution.command.CreateDataSourceTableAsSelectCommand.run(createDataSourceTables.scala:183)\n\tat org.apache.spark.sql.execution.command.ExecutedCommandExec.sideEffectResult$lzycompute(commands.scala:75)\n\tat org.apache.spark.sql.execution.command.ExecutedCommandExec.sideEffectResult(commands.scala:73)\n\tat org.apache.spark.sql.execution.command.ExecutedCommandExec.executeCollect(commands.scala:84)\n\tat org.apache.spark.sql.execution.QueryExecution$$anonfun$eagerlyExecuteCommands$1.$anonfun$applyOrElse$1(QueryExecution.scala:98)\n\tat org.apache.spark.sql.execution.SQLExecution$.$anonfun$withNewExecutionId$6(SQLExecution.scala:118)\n\tat org.apache.spark.sql.execution.SQLExecution$.withSQLConfPropagated(SQLExecution.scala:195)\n\tat org.apache.spark.sql.execution.SQLExecution$.$anonfun$withNewExecutionId$1(SQLExecution.scala:103)\n\tat org.apache.spark.sql.SparkSession.withActive(SparkSession.scala:827)\n\tat org.apache.spark.sql.execution.SQLExecution$.withNewExecutionId(SQLExecution.scala:65)\n\tat org.apache.spark.sql.execution.QueryExecution$$anonfun$eagerlyExecuteCommands$1.applyOrElse(QueryExecution.scala:98)\n\tat org.apache.spark.sql.execution.QueryExecution$$anonfun$eagerlyExecuteCommands$1.applyOrElse(QueryExecution.scala:94)\n\tat org.apache.spark.sql.catalyst.trees.TreeNode.$anonfun$transformDownWithPruning$1(TreeNode.scala:512)\n\tat org.apache.spark.sql.catalyst.trees.CurrentOrigin$.withOrigin(TreeNode.scala:104)\n\tat org.apache.spark.sql.catalyst.trees.TreeNode.transformDownWithPruning(TreeNode.scala:512)\n\tat org.apache.spark.sql.catalyst.plans.logical.LogicalPlan.org$apache$spark$sql$catalyst$plans$logical$AnalysisHelper$$super$transformDownWithPruning(LogicalPlan.scala:31)\n\tat org.apache.spark.sql.catalyst.plans.logical.AnalysisHelper.transformDownWithPruning(AnalysisHelper.scala:267)\n\tat org.apache.spark.sql.catalyst.plans.logical.AnalysisHelper.transformDownWithPruning$(AnalysisHelper.scala:263)\n\tat org.apache.spark.sql.catalyst.plans.logical.LogicalPlan.transformDownWithPruning(LogicalPlan.scala:31)\n\tat org.apache.spark.sql.catalyst.plans.logical.LogicalPlan.transformDownWithPruning(LogicalPlan.scala:31)\n\tat org.apache.spark.sql.catalyst.trees.TreeNode.transformDown(TreeNode.scala:488)\n\tat org.apache.spark.sql.execution.QueryExecution.eagerlyExecuteCommands(QueryExecution.scala:94)\n\tat org.apache.spark.sql.execution.QueryExecution.commandExecuted$lzycompute(QueryExecution.scala:81)\n\tat org.apache.spark.sql.execution.QueryExecution.commandExecuted(QueryExecution.scala:79)\n\tat org.apache.spark.sql.execution.QueryExecution.assertCommandExecuted(QueryExecution.scala:133)\n\tat org.apache.spark.sql.DataFrameWriter.runCommand(DataFrameWriter.scala:856)\n\tat org.apache.spark.sql.DataFrameWriter.createTable(DataFrameWriter.scala:697)\n\tat org.apache.spark.sql.DataFrameWriter.saveAsTable(DataFrameWriter.scala:675)\n\tat org.apache.spark.sql.DataFrameWriter.saveAsTable(DataFrameWriter.scala:570)\n\tat sun.reflect.NativeMethodAccessorImpl.invoke0(Native Method)\n\tat sun.reflect.NativeMethodAccessorImpl.invoke(NativeMethodAccessorImpl.java:62)\n\tat sun.reflect.DelegatingMethodAccessorImpl.invoke(DelegatingMethodAccessorImpl.java:43)\n\tat java.lang.reflect.Method.invoke(Method.java:498)\n\tat py4j.reflection.MethodInvoker.invoke(MethodInvoker.java:244)\n\tat py4j.reflection.ReflectionEngine.invoke(ReflectionEngine.java:374)\n\tat py4j.Gateway.invoke(Gateway.java:282)\n\tat py4j.commands.AbstractCommand.invokeMethod(AbstractCommand.java:132)\n\tat py4j.commands.CallCommand.execute(CallCommand.java:79)\n\tat py4j.ClientServerConnection.waitForCommands(ClientServerConnection.java:182)\n\tat py4j.ClientServerConnection.run(ClientServerConnection.java:106)\n\tat java.lang.Thread.run(Thread.java:750)\nCaused by: org.apache.spark.SparkFileNotFoundException: /home/labuser/Desktop/Constructor_Parquet/Pit Stop.json (Is a directory)\nIt is possible the underlying files have been updated. You can explicitly invalidate the cache in Spark by running 'REFRESH TABLE tableName' command in SQL or by recreating the Dataset/DataFrame involved.\n\tat org.apache.spark.sql.errors.QueryExecutionErrors$.readCurrentFileNotFoundError(QueryExecutionErrors.scala:794)\n\tat org.apache.spark.sql.execution.datasources.FileScanRDD$$anon$1.org$apache$spark$sql$execution$datasources$FileScanRDD$$anon$$readCurrentFile(FileScanRDD.scala:234)\n\tat org.apache.spark.sql.execution.datasources.FileScanRDD$$anon$1.nextIterator(FileScanRDD.scala:293)\n\tat org.apache.spark.sql.execution.datasources.FileScanRDD$$anon$1.hasNext(FileScanRDD.scala:125)\n\tat scala.collection.Iterator$$anon$10.hasNext(Iterator.scala:460)\n\tat scala.collection.Iterator$$anon$10.hasNext(Iterator.scala:460)\n\tat scala.collection.Iterator$$anon$10.hasNext(Iterator.scala:460)\n\tat org.apache.spark.util.random.SamplingUtils$.reservoirSampleAndCount(SamplingUtils.scala:41)\n\tat org.apache.spark.RangePartitioner$.$anonfun$sketch$1(Partitioner.scala:322)\n\tat org.apache.spark.RangePartitioner$.$anonfun$sketch$1$adapted(Partitioner.scala:320)\n\tat org.apache.spark.rdd.RDD.$anonfun$mapPartitionsWithIndex$2(RDD.scala:905)\n\tat org.apache.spark.rdd.RDD.$anonfun$mapPartitionsWithIndex$2$adapted(RDD.scala:905)\n\tat org.apache.spark.rdd.MapPartitionsRDD.compute(MapPartitionsRDD.scala:52)\n\tat org.apache.spark.rdd.RDD.computeOrReadCheckpoint(RDD.scala:364)\n\tat org.apache.spark.rdd.RDD.iterator(RDD.scala:328)\n\tat org.apache.spark.scheduler.ResultTask.runTask(ResultTask.scala:92)\n\tat org.apache.spark.TaskContext.runTaskWithListeners(TaskContext.scala:161)\n\tat org.apache.spark.scheduler.Task.run(Task.scala:139)\n\tat org.apache.spark.executor.Executor$TaskRunner.$anonfun$run$3(Executor.scala:554)\n\tat org.apache.spark.util.Utils$.tryWithSafeFinally(Utils.scala:1529)\n\tat org.apache.spark.executor.Executor$TaskRunner.run(Executor.scala:557)\n\tat java.util.concurrent.ThreadPoolExecutor.runWorker(ThreadPoolExecutor.java:1149)\n\tat java.util.concurrent.ThreadPoolExecutor$Worker.run(ThreadPoolExecutor.java:624)\n\t... 1 more\n"
     ]
    }
   ],
   "source": [
    "df4.sort(\"driverId\").write.mode('overwrite').option(\"path\",'/home/labuser/Desktop/Constructor_Parquet/Pit Stop.json').saveAsTable(\"pitlogs\")"
   ]
  },
  {
   "cell_type": "code",
   "execution_count": 8,
   "id": "648ea564",
   "metadata": {},
   "outputs": [
    {
     "name": "stderr",
     "output_type": "stream",
     "text": [
      "\r",
      "[Stage 5:>                                                          (0 + 1) / 1]\r",
      "\r",
      "                                                                                \r"
     ]
    }
   ],
   "source": [
    "df_sales = spark.read.option(\"inferschema\",True).option(\"header\",True).csv(\"/home/labuser/Desktop/sales_data.csv\")"
   ]
  },
  {
   "cell_type": "code",
   "execution_count": 9,
   "id": "5610e053",
   "metadata": {},
   "outputs": [],
   "source": [
    "df_product = spark.read.option(\"inferschema\",True).option(\"header\",True).csv(\"/home/labuser/Desktop/product_info.csv\")"
   ]
  },
  {
   "cell_type": "code",
   "execution_count": 10,
   "id": "271bb47e",
   "metadata": {},
   "outputs": [],
   "source": [
    "df_join = df_sales.join(df_product, df_sales.product_id==df_product.product_id, \"inner\")\n"
   ]
  },
  {
   "cell_type": "code",
   "execution_count": 11,
   "id": "97cb2018",
   "metadata": {},
   "outputs": [
    {
     "name": "stdout",
     "output_type": "stream",
     "text": [
      "+--------------+----------+-----------+-------------+-------------------+----------+------------+-----------+-----+\n",
      "|transaction_id|product_id|customer_id|quantity_sold|          timestamp|product_id|product_name|   category|price|\n",
      "+--------------+----------+-----------+-------------+-------------------+----------+------------+-----------+-----+\n",
      "|             1|       101|        201|            5|2023-09-22 10:15:00|       101|      Laptop|Electronics|  800|\n",
      "|             2|       102|        202|            3|2023-09-22 11:30:00|       102|  Smartphone|Electronics|  600|\n",
      "|             3|       101|        203|            2|2023-09-22 12:45:00|       101|      Laptop|Electronics|  800|\n",
      "|             4|       103|        204|            1|2023-09-22 14:00:00|       103|        Desk|  Furniture|  250|\n",
      "|             5|       102|        205|            4|2023-09-22 15:15:00|       102|  Smartphone|Electronics|  600|\n",
      "+--------------+----------+-----------+-------------+-------------------+----------+------------+-----------+-----+\n",
      "\n"
     ]
    }
   ],
   "source": [
    "df_join.show()"
   ]
  },
  {
   "cell_type": "code",
   "execution_count": 19,
   "id": "60312c93",
   "metadata": {},
   "outputs": [],
   "source": [
    "df_join = df_sales.join(df_product,on=\"product_id\")"
   ]
  },
  {
   "cell_type": "code",
   "execution_count": 13,
   "id": "697e6c3d",
   "metadata": {},
   "outputs": [
    {
     "name": "stdout",
     "output_type": "stream",
     "text": [
      "+--------------+-----------+------------+-----+\n",
      "|transaction_id|customer_id|product_name|price|\n",
      "+--------------+-----------+------------+-----+\n",
      "|             1|        201|      Laptop|  800|\n",
      "|             2|        202|  Smartphone|  600|\n",
      "|             3|        203|      Laptop|  800|\n",
      "|             4|        204|        Desk|  250|\n",
      "|             5|        205|  Smartphone|  600|\n",
      "+--------------+-----------+------------+-----+\n",
      "\n"
     ]
    }
   ],
   "source": [
    "df_join.select(['transaction_id','customer_id','product_name','price'])"
   ]
  },
  {
   "cell_type": "code",
   "execution_count": 28,
   "id": "6b3dcdac",
   "metadata": {
    "scrolled": true
   },
   "outputs": [
    {
     "name": "stdout",
     "output_type": "stream",
     "text": [
      "+----------+--------------+-----------+-------------+-------------------+------------+-----------+-----+\n",
      "|product_id|transaction_id|customer_id|quantity_sold|          timestamp|product_name|   category|price|\n",
      "+----------+--------------+-----------+-------------+-------------------+------------+-----------+-----+\n",
      "|       101|             1|        201|            5|2023-09-22 10:15:00|      Laptop|Electronics|  800|\n",
      "+----------+--------------+-----------+-------------+-------------------+------------+-----------+-----+\n",
      "\n"
     ]
    }
   ],
   "source": [
    "df_join.filter(\"transaction_id=1\").show()"
   ]
  },
  {
   "cell_type": "code",
   "execution_count": 29,
   "id": "a2371ae8",
   "metadata": {},
   "outputs": [
    {
     "name": "stdout",
     "output_type": "stream",
     "text": [
      "+----------+--------------+-----------+-------------+-------------------+------------+-----------+-----+\n",
      "|product_id|transaction_id|customer_id|quantity_sold|          timestamp|product_name|   category|price|\n",
      "+----------+--------------+-----------+-------------+-------------------+------------+-----------+-----+\n",
      "|       101|             1|        201|            5|2023-09-22 10:15:00|      Laptop|Electronics|  800|\n",
      "+----------+--------------+-----------+-------------+-------------------+------------+-----------+-----+\n",
      "\n"
     ]
    }
   ],
   "source": [
    "df_join.where(\"transaction_id=1\").show()"
   ]
  },
  {
   "cell_type": "code",
   "execution_count": 35,
   "id": "6fb8728c",
   "metadata": {},
   "outputs": [
    {
     "name": "stdout",
     "output_type": "stream",
     "text": [
      "+----------+--------------+-----------+-------------+-------------------+------------+-----------+-----+\n",
      "|product_id|transaction_id|customer_id|quantity_sold|          timestamp|product_name|   category|price|\n",
      "+----------+--------------+-----------+-------------+-------------------+------------+-----------+-----+\n",
      "|       101|             1|        201|            5|2023-09-22 10:15:00|      Laptop|Electronics|  800|\n",
      "+----------+--------------+-----------+-------------+-------------------+------------+-----------+-----+\n",
      "\n"
     ]
    }
   ],
   "source": [
    "df_join.where(col(\"transaction_id\")==1).show()"
   ]
  },
  {
   "cell_type": "code",
   "execution_count": 72,
   "id": "796bdd84",
   "metadata": {},
   "outputs": [],
   "source": [
    "employees = [(1, \"Scott\", \"Tiger\", 1000.0, \n",
    "                      \"united states\", \"+1 123 456 7890\", \"123 45 6789\"\n",
    "                     ),\n",
    "                     (2, \"Henry\", \"Ford\", 1250.0, \n",
    "                      \"India\", \"+91 234 567 8901\", \"456 78 9123\"\n",
    "                     ),\n",
    "                     (3, \"Nick\", \"Junior\", 750.0, \n",
    "                      \"united KINGDOM\", \"+44 111 111 1111\", \"222 33 4444\"\n",
    "                     ),\n",
    "                     (4, \"Bill\", \"Gomes\", 1500.0, \n",
    "                      \"AUSTRALIA\", \"+61 987 654 3210\", \"789 12 6118\"\n",
    "                     )\n",
    "                ]"
   ]
  },
  {
   "cell_type": "code",
   "execution_count": 73,
   "id": "f40de7d9",
   "metadata": {},
   "outputs": [],
   "source": [
    "employeesDF = spark. \\\n",
    "    createDataFrame(employees,\n",
    "                    schema=\"\"\"employee_id INT, first_name STRING, \n",
    "                    last_name STRING, salary FLOAT, nationality STRING,\n",
    "                    phone_number STRING, ssn STRING\"\"\"\n",
    "                   )"
   ]
  },
  {
   "cell_type": "code",
   "execution_count": 75,
   "id": "f3c608de",
   "metadata": {},
   "outputs": [
    {
     "name": "stdout",
     "output_type": "stream",
     "text": [
      "+-----------+----------+---------+------+--------------+----------------+-----------+-----------------+------------+---------+\n",
      "|employee_id|first_name|last_name|salary|   nationality|    phone_number|        ssn|ssn_last_4_digits|country_code|area_code|\n",
      "+-----------+----------+---------+------+--------------+----------------+-----------+-----------------+------------+---------+\n",
      "|          1|     Scott|    Tiger|1000.0| UNITED STATES| +1 123 456 7890|123 45 6789|             6789|           1|      123|\n",
      "|          2|     Henry|     Ford|1250.0|         INDIA|+91 234 567 8901|456 78 9123|             9123|          91|      234|\n",
      "|          3|      Nick|   Junior| 750.0|UNITED KINGDOM|+44 111 111 1111|222 33 4444|             4444|          44|      111|\n",
      "|          4|      Bill|    Gomes|1500.0|     AUSTRALIA|+61 987 654 3210|789 12 6118|             6118|          61|      987|\n",
      "+-----------+----------+---------+------+--------------+----------------+-----------+-----------------+------------+---------+\n",
      "\n"
     ]
    }
   ],
   "source": [
    "employeesDF.withColumn(\"nationality\", upper(col(\"nationality\"))).\\\n",
    "    withColumn(\"ssn_last_4_digits\", substring(col(\"ssn\"), -4, 4).cast(\"int\")).\\\n",
    "    withColumn(\"country_code\", split(employeesDF[\"phone_number\"], \" \")[0].cast(\"int\")).\\\n",
    "    withColumn(\"area_code\", split(employeesDF[\"phone_number\"], \" \")[1].cast(\"int\")).\\\n",
    "    show()"
   ]
  },
  {
   "cell_type": "code",
   "execution_count": 76,
   "id": "b4689a28",
   "metadata": {},
   "outputs": [
    {
     "data": {
      "text/html": [
       "\n",
       "            <div>\n",
       "                <p><b>SparkSession - in-memory</b></p>\n",
       "                \n",
       "        <div>\n",
       "            <p><b>SparkContext</b></p>\n",
       "\n",
       "            <p><a href=\"http://ip-172-31-0-163.ap-south-1.compute.internal:4040\">Spark UI</a></p>\n",
       "\n",
       "            <dl>\n",
       "              <dt>Version</dt>\n",
       "                <dd><code>v3.4.1</code></dd>\n",
       "              <dt>Master</dt>\n",
       "                <dd><code>local[*]</code></dd>\n",
       "              <dt>AppName</dt>\n",
       "                <dd><code>Example</code></dd>\n",
       "            </dl>\n",
       "        </div>\n",
       "        \n",
       "            </div>\n",
       "        "
      ],
      "text/plain": [
       "<pyspark.sql.session.SparkSession at 0x7f62b5795ad0>"
      ]
     },
     "execution_count": 76,
     "metadata": {},
     "output_type": "execute_result"
    }
   ],
   "source": [
    "spark"
   ]
  },
  {
   "cell_type": "code",
   "execution_count": null,
   "id": "38da6692",
   "metadata": {},
   "outputs": [],
   "source": []
  }
 ],
 "metadata": {
  "kernelspec": {
   "display_name": "Python 3 (ipykernel)",
   "language": "python",
   "name": "python3"
  },
  "language_info": {
   "codemirror_mode": {
    "name": "ipython",
    "version": 3
   },
   "file_extension": ".py",
   "mimetype": "text/x-python",
   "name": "python",
   "nbconvert_exporter": "python",
   "pygments_lexer": "ipython3",
   "version": "3.11.4"
  }
 },
 "nbformat": 4,
 "nbformat_minor": 5
}
