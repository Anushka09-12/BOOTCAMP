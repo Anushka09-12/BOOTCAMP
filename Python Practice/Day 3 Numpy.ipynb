{
 "cells": [
  {
   "cell_type": "code",
   "execution_count": 3,
   "id": "8b935071",
   "metadata": {},
   "outputs": [],
   "source": [
    "import numpy as np\n"
   ]
  },
  {
   "cell_type": "code",
   "execution_count": 16,
   "id": "55cc36d2",
   "metadata": {},
   "outputs": [],
   "source": [
    "arr = np.array([1,2,3,4,5,6,7,8,9,10,11,12,13,14,15,16,17,18,19,20])"
   ]
  },
  {
   "cell_type": "code",
   "execution_count": 17,
   "id": "daefb143",
   "metadata": {},
   "outputs": [
    {
     "data": {
      "text/plain": [
       "array([ 1,  2,  3,  4,  5,  6,  7,  8,  9, 10, 11, 12, 13, 14, 15, 16, 17,\n",
       "       18, 19, 20])"
      ]
     },
     "execution_count": 17,
     "metadata": {},
     "output_type": "execute_result"
    }
   ],
   "source": [
    "arr"
   ]
  },
  {
   "cell_type": "code",
   "execution_count": 7,
   "id": "150d91fc",
   "metadata": {},
   "outputs": [
    {
     "data": {
      "text/plain": [
       "array([[1, 2, 3],\n",
       "       [4, 5, 6]])"
      ]
     },
     "execution_count": 7,
     "metadata": {},
     "output_type": "execute_result"
    }
   ],
   "source": [
    "arr_2d = np.array([[1,2,3],[4,5,6]])\n",
    "arr_2d"
   ]
  },
  {
   "cell_type": "code",
   "execution_count": 10,
   "id": "d1090752",
   "metadata": {},
   "outputs": [
    {
     "data": {
      "text/plain": [
       "array([[[ 1,  2,  3],\n",
       "        [ 4,  5,  6]],\n",
       "\n",
       "       [[12, 13, 14],\n",
       "        [15, 16, 17]]])"
      ]
     },
     "execution_count": 10,
     "metadata": {},
     "output_type": "execute_result"
    }
   ],
   "source": [
    "arr_3d = np.array([[[1,2,3],[4,5,6]],[[12,13,14],[15,16,17]]])\n",
    "arr_3d"
   ]
  },
  {
   "cell_type": "code",
   "execution_count": 15,
   "id": "04f2f947",
   "metadata": {},
   "outputs": [
    {
     "data": {
      "text/plain": [
       "2"
      ]
     },
     "execution_count": 15,
     "metadata": {},
     "output_type": "execute_result"
    }
   ],
   "source": [
    "arr_2d.ndim\n"
   ]
  },
  {
   "cell_type": "code",
   "execution_count": 14,
   "id": "9c47721b",
   "metadata": {},
   "outputs": [
    {
     "data": {
      "text/plain": [
       "3"
      ]
     },
     "execution_count": 14,
     "metadata": {},
     "output_type": "execute_result"
    }
   ],
   "source": [
    "arr_3d.ndim"
   ]
  },
  {
   "cell_type": "code",
   "execution_count": 18,
   "id": "3e5f7fa2",
   "metadata": {},
   "outputs": [
    {
     "data": {
      "text/plain": [
       "array([2, 3, 4, 5, 6, 7])"
      ]
     },
     "execution_count": 18,
     "metadata": {},
     "output_type": "execute_result"
    }
   ],
   "source": [
    "arr[1:7]"
   ]
  },
  {
   "cell_type": "code",
   "execution_count": 19,
   "id": "723622b1",
   "metadata": {},
   "outputs": [
    {
     "data": {
      "text/plain": [
       "3"
      ]
     },
     "execution_count": 19,
     "metadata": {},
     "output_type": "execute_result"
    }
   ],
   "source": [
    "arr_2d[0,2]"
   ]
  },
  {
   "cell_type": "code",
   "execution_count": 20,
   "id": "08231521",
   "metadata": {},
   "outputs": [
    {
     "data": {
      "text/plain": [
       "array([4, 5])"
      ]
     },
     "execution_count": 20,
     "metadata": {},
     "output_type": "execute_result"
    }
   ],
   "source": [
    "arr_2d[1,0:2]"
   ]
  },
  {
   "cell_type": "code",
   "execution_count": 21,
   "id": "cefbf7a6",
   "metadata": {},
   "outputs": [
    {
     "data": {
      "text/plain": [
       "array([[1],\n",
       "       [4]])"
      ]
     },
     "execution_count": 21,
     "metadata": {},
     "output_type": "execute_result"
    }
   ],
   "source": [
    "arr_2d[0:2,0:1]"
   ]
  },
  {
   "cell_type": "code",
   "execution_count": 22,
   "id": "15f3a7f7",
   "metadata": {},
   "outputs": [
    {
     "data": {
      "text/plain": [
       "array([[1, 2],\n",
       "       [4, 5]])"
      ]
     },
     "execution_count": 22,
     "metadata": {},
     "output_type": "execute_result"
    }
   ],
   "source": [
    "arr_2d[0:2,0:2]"
   ]
  },
  {
   "cell_type": "code",
   "execution_count": 1,
   "id": "30a14446",
   "metadata": {},
   "outputs": [],
   "source": [
    "temperature_data = [25.3, 26.1, 24.8, 23.5, 27.2]\n",
    "pressure_data = [101.2, 100.8, 101.5, 100.2, 101.0]\n",
    "humidity_data = [55.2, 54.8, 56.5, 53.7, 55.9]"
   ]
  },
  {
   "cell_type": "code",
   "execution_count": 4,
   "id": "5d001dc3",
   "metadata": {},
   "outputs": [],
   "source": [
    "temperature_data = np.array([25.3, 26.1, 24.8, 23.5, 27.2])"
   ]
  },
  {
   "cell_type": "code",
   "execution_count": 5,
   "id": "c7018c99",
   "metadata": {},
   "outputs": [],
   "source": [
    "pressure_data = np.array([101.2, 100.8, 101.5, 100.2, 101.0])"
   ]
  },
  {
   "cell_type": "code",
   "execution_count": 6,
   "id": "d4baf3e7",
   "metadata": {},
   "outputs": [],
   "source": [
    "humidity_data = np.array([55.2, 54.8, 56.5, 53.7, 55.9])"
   ]
  },
  {
   "cell_type": "code",
   "execution_count": 7,
   "id": "10f7e5da",
   "metadata": {},
   "outputs": [
    {
     "name": "stdout",
     "output_type": "stream",
     "text": [
      "[[ 1  2]\n",
      " [ 3  4]\n",
      " [ 5  6]\n",
      " [ 6  7]\n",
      " [ 8  9]\n",
      " [10 11]]\n"
     ]
    }
   ],
   "source": [
    "arr1 = [[1,2],[3,4],[5,6]]\n",
    "\n",
    "arr2 = [[6,7],[8,9],[10,11]]\n",
    "\n",
    "res = np.concatenate((arr1, arr2))\n",
    "\n",
    "print(res)"
   ]
  },
  {
   "cell_type": "code",
   "execution_count": 8,
   "id": "64814750",
   "metadata": {},
   "outputs": [
    {
     "name": "stdout",
     "output_type": "stream",
     "text": [
      "[ 1  2  3  4  5  6  7  8  9 10]\n"
     ]
    }
   ],
   "source": [
    "arr1 = [1,2,3,4,5]\n",
    "\n",
    "arr2 = [6,7,8,9,10]\n",
    "\n",
    "res = np.concatenate((arr1, arr2))\n",
    "\n",
    "print(res)"
   ]
  },
  {
   "cell_type": "code",
   "execution_count": 9,
   "id": "e6d4641e",
   "metadata": {},
   "outputs": [],
   "source": [
    "temp_mean = np.mean(temperature_data)"
   ]
  },
  {
   "cell_type": "code",
   "execution_count": 11,
   "id": "ac08bf49",
   "metadata": {},
   "outputs": [
    {
     "data": {
      "text/plain": [
       "25.380000000000003"
      ]
     },
     "execution_count": 11,
     "metadata": {},
     "output_type": "execute_result"
    }
   ],
   "source": [
    "temp_mean"
   ]
  },
  {
   "cell_type": "code",
   "execution_count": 14,
   "id": "2840099b",
   "metadata": {},
   "outputs": [],
   "source": [
    "pressure_mean = np.mean(pressure_data)"
   ]
  },
  {
   "cell_type": "code",
   "execution_count": 15,
   "id": "14d1e86f",
   "metadata": {},
   "outputs": [
    {
     "data": {
      "text/plain": [
       "100.94"
      ]
     },
     "execution_count": 15,
     "metadata": {},
     "output_type": "execute_result"
    }
   ],
   "source": [
    "pressure_mean"
   ]
  },
  {
   "cell_type": "code",
   "execution_count": 16,
   "id": "77f9d0f3",
   "metadata": {},
   "outputs": [],
   "source": [
    "humidity_mean = np.mean(humidity_data)"
   ]
  },
  {
   "cell_type": "code",
   "execution_count": 17,
   "id": "ce4f471f",
   "metadata": {},
   "outputs": [
    {
     "data": {
      "text/plain": [
       "55.21999999999999"
      ]
     },
     "execution_count": 17,
     "metadata": {},
     "output_type": "execute_result"
    }
   ],
   "source": [
    "humidity_mean"
   ]
  },
  {
   "cell_type": "code",
   "execution_count": 18,
   "id": "0107182b",
   "metadata": {},
   "outputs": [],
   "source": [
    "temp_sd = np.std(temperature_data)"
   ]
  },
  {
   "cell_type": "code",
   "execution_count": 19,
   "id": "714fda16",
   "metadata": {},
   "outputs": [],
   "source": [
    "pressure_sd = np.std(pressure_data)"
   ]
  },
  {
   "cell_type": "code",
   "execution_count": 20,
   "id": "7f4ff1c7",
   "metadata": {},
   "outputs": [],
   "source": [
    "humid_sd = np.std(humidity_data)"
   ]
  },
  {
   "cell_type": "code",
   "execution_count": 23,
   "id": "2bca762b",
   "metadata": {},
   "outputs": [
    {
     "data": {
      "text/plain": [
       "0.43634848458542813"
      ]
     },
     "execution_count": 23,
     "metadata": {},
     "output_type": "execute_result"
    }
   ],
   "source": [
    "pressure_sd\n"
   ]
  },
  {
   "cell_type": "code",
   "execution_count": null,
   "id": "bd72e69a",
   "metadata": {},
   "outputs": [],
   "source": []
  },
  {
   "cell_type": "code",
   "execution_count": 22,
   "id": "b3831538",
   "metadata": {},
   "outputs": [
    {
     "data": {
      "text/plain": [
       "0.9579144011862429"
      ]
     },
     "execution_count": 22,
     "metadata": {},
     "output_type": "execute_result"
    }
   ],
   "source": [
    "humid_sd"
   ]
  },
  {
   "cell_type": "code",
   "execution_count": 24,
   "id": "144feaad",
   "metadata": {},
   "outputs": [],
   "source": [
    "t_min = np.min(temperature_data)"
   ]
  },
  {
   "cell_type": "code",
   "execution_count": 25,
   "id": "543c0919",
   "metadata": {},
   "outputs": [
    {
     "data": {
      "text/plain": [
       "23.5"
      ]
     },
     "execution_count": 25,
     "metadata": {},
     "output_type": "execute_result"
    }
   ],
   "source": [
    "t_min"
   ]
  },
  {
   "cell_type": "code",
   "execution_count": 26,
   "id": "97a532ce",
   "metadata": {},
   "outputs": [],
   "source": [
    "t_max = np.max(temperature_data)"
   ]
  },
  {
   "cell_type": "code",
   "execution_count": 27,
   "id": "8ac9d2d5",
   "metadata": {},
   "outputs": [
    {
     "data": {
      "text/plain": [
       "27.2"
      ]
     },
     "execution_count": 27,
     "metadata": {},
     "output_type": "execute_result"
    }
   ],
   "source": [
    "t_max"
   ]
  },
  {
   "cell_type": "code",
   "execution_count": null,
   "id": "6bd82d48",
   "metadata": {},
   "outputs": [],
   "source": []
  }
 ],
 "metadata": {
  "kernelspec": {
   "display_name": "Python 3 (ipykernel)",
   "language": "python",
   "name": "python3"
  },
  "language_info": {
   "codemirror_mode": {
    "name": "ipython",
    "version": 3
   },
   "file_extension": ".py",
   "mimetype": "text/x-python",
   "name": "python",
   "nbconvert_exporter": "python",
   "pygments_lexer": "ipython3",
   "version": "3.11.4"
  }
 },
 "nbformat": 4,
 "nbformat_minor": 5
}
