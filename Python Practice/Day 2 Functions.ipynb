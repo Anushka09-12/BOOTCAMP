{
 "cells": [
  {
   "cell_type": "code",
   "execution_count": null,
   "id": "e283470c",
   "metadata": {},
   "outputs": [],
   "source": [
    "Functions: reusable block of code that performs specific tasks."
   ]
  },
  {
   "cell_type": "code",
   "execution_count": 1,
   "id": "62234107",
   "metadata": {},
   "outputs": [],
   "source": [
    "def  my_fun():\n",
    "    print(\"Hello from my fun\")"
   ]
  },
  {
   "cell_type": "code",
   "execution_count": 2,
   "id": "bab09e54",
   "metadata": {},
   "outputs": [
    {
     "name": "stdout",
     "output_type": "stream",
     "text": [
      "Hello from my fun\n"
     ]
    }
   ],
   "source": [
    "my_fun()"
   ]
  },
  {
   "cell_type": "code",
   "execution_count": null,
   "id": "7592eff9",
   "metadata": {},
   "outputs": [],
   "source": [
    "parameterised function"
   ]
  },
  {
   "cell_type": "code",
   "execution_count": 3,
   "id": "b3744e43",
   "metadata": {},
   "outputs": [],
   "source": [
    "def greet(name):\n",
    "    print(\"Good morning\", name)"
   ]
  },
  {
   "cell_type": "code",
   "execution_count": 5,
   "id": "58612ccd",
   "metadata": {},
   "outputs": [
    {
     "name": "stdout",
     "output_type": "stream",
     "text": [
      "Good morning Anushka\n"
     ]
    }
   ],
   "source": [
    "greet(\"Anushka\")"
   ]
  },
  {
   "cell_type": "code",
   "execution_count": 6,
   "id": "92b41c10",
   "metadata": {},
   "outputs": [],
   "source": [
    "def square(a):\n",
    "    print(a*a)"
   ]
  },
  {
   "cell_type": "code",
   "execution_count": 8,
   "id": "0f2bfdae",
   "metadata": {},
   "outputs": [
    {
     "name": "stdout",
     "output_type": "stream",
     "text": [
      "25\n",
      "625\n"
     ]
    }
   ],
   "source": [
    "square(5)\n",
    "square(25)"
   ]
  },
  {
   "cell_type": "code",
   "execution_count": 9,
   "id": "9e3a061f",
   "metadata": {},
   "outputs": [
    {
     "data": {
      "text/plain": [
       "25"
      ]
     },
     "execution_count": 9,
     "metadata": {},
     "output_type": "execute_result"
    }
   ],
   "source": [
    "def sq(a):\n",
    "    return(a*a)\n",
    "sq(5)"
   ]
  },
  {
   "cell_type": "code",
   "execution_count": 10,
   "id": "eb78faed",
   "metadata": {},
   "outputs": [
    {
     "data": {
      "text/plain": [
       "25"
      ]
     },
     "execution_count": 10,
     "metadata": {},
     "output_type": "execute_result"
    }
   ],
   "source": [
    "sq(5)"
   ]
  },
  {
   "cell_type": "code",
   "execution_count": 13,
   "id": "44b30e85",
   "metadata": {},
   "outputs": [
    {
     "name": "stdout",
     "output_type": "stream",
     "text": [
      "5 : Odd\n"
     ]
    }
   ],
   "source": [
    "def odd_even(num):\n",
    "    if(num%2==0):\n",
    "        print(num,\": Even\")\n",
    "    else:\n",
    "        print(num,\": Odd\")\n",
    "odd_even(5)"
   ]
  },
  {
   "cell_type": "code",
   "execution_count": 15,
   "id": "6ee1fc24",
   "metadata": {},
   "outputs": [
    {
     "name": "stdout",
     "output_type": "stream",
     "text": [
      "10 : Even\n"
     ]
    }
   ],
   "source": [
    "def odd_even(num):\n",
    "    if(num%2==0):\n",
    "        print(num,\": Even\")\n",
    "    else:\n",
    "        print(num,\": Odd\")\n",
    "odd_even(10)"
   ]
  },
  {
   "cell_type": "code",
   "execution_count": 16,
   "id": "d64424c8",
   "metadata": {},
   "outputs": [],
   "source": [
    "def add(num1,num2):\n",
    "    print(num1+num2)"
   ]
  },
  {
   "cell_type": "code",
   "execution_count": 17,
   "id": "92e397d8",
   "metadata": {},
   "outputs": [
    {
     "name": "stdout",
     "output_type": "stream",
     "text": [
      "14\n"
     ]
    }
   ],
   "source": [
    "add(8,6)"
   ]
  },
  {
   "cell_type": "code",
   "execution_count": 18,
   "id": "15d79fdd",
   "metadata": {},
   "outputs": [
    {
     "ename": "SyntaxError",
     "evalue": "invalid syntax (65277322.py, line 1)",
     "output_type": "error",
     "traceback": [
      "\u001b[0;36m  Cell \u001b[0;32mIn[18], line 1\u001b[0;36m\u001b[0m\n\u001b[0;31m    Types of Arguments:\u001b[0m\n\u001b[0m          ^\u001b[0m\n\u001b[0;31mSyntaxError\u001b[0m\u001b[0;31m:\u001b[0m invalid syntax\n"
     ]
    }
   ],
   "source": [
    "Types of Arguments:\n",
    "    Positional\n",
    "    Keyword\n",
    "    Default\n",
    "    Variable Length\n",
    "    Keyword Variable Length"
   ]
  },
  {
   "cell_type": "code",
   "execution_count": 19,
   "id": "89f7d4a8",
   "metadata": {},
   "outputs": [
    {
     "name": "stdout",
     "output_type": "stream",
     "text": [
      "51\n"
     ]
    }
   ],
   "source": [
    "#keyword arguments\n",
    "add(num1=5,num2=46)"
   ]
  },
  {
   "cell_type": "code",
   "execution_count": 20,
   "id": "a475d9bf",
   "metadata": {},
   "outputs": [
    {
     "ename": "SyntaxError",
     "evalue": "positional argument follows keyword argument (4228618439.py, line 1)",
     "output_type": "error",
     "traceback": [
      "\u001b[0;36m  Cell \u001b[0;32mIn[20], line 1\u001b[0;36m\u001b[0m\n\u001b[0;31m    add(num2=46,5)\u001b[0m\n\u001b[0m                 ^\u001b[0m\n\u001b[0;31mSyntaxError\u001b[0m\u001b[0;31m:\u001b[0m positional argument follows keyword argument\n"
     ]
    }
   ],
   "source": [
    "add(num2=46,5)"
   ]
  },
  {
   "cell_type": "code",
   "execution_count": 21,
   "id": "941cf717",
   "metadata": {},
   "outputs": [
    {
     "name": "stdout",
     "output_type": "stream",
     "text": [
      "51\n"
     ]
    }
   ],
   "source": [
    "add(46,num2=5)"
   ]
  },
  {
   "cell_type": "code",
   "execution_count": 22,
   "id": "be73b5a3",
   "metadata": {},
   "outputs": [
    {
     "ename": "TypeError",
     "evalue": "add() got multiple values for argument 'num1'",
     "output_type": "error",
     "traceback": [
      "\u001b[0;31m---------------------------------------------------------------------------\u001b[0m",
      "\u001b[0;31mTypeError\u001b[0m                                 Traceback (most recent call last)",
      "Cell \u001b[0;32mIn[22], line 1\u001b[0m\n\u001b[0;32m----> 1\u001b[0m add(\u001b[38;5;241m46\u001b[39m,num1\u001b[38;5;241m=\u001b[39m\u001b[38;5;241m5\u001b[39m)\n",
      "\u001b[0;31mTypeError\u001b[0m: add() got multiple values for argument 'num1'"
     ]
    }
   ],
   "source": [
    "add(46,num1=5)"
   ]
  },
  {
   "cell_type": "code",
   "execution_count": 23,
   "id": "a4e0b523",
   "metadata": {},
   "outputs": [
    {
     "ename": "SyntaxError",
     "evalue": "positional argument follows keyword argument (2832202704.py, line 1)",
     "output_type": "error",
     "traceback": [
      "\u001b[0;36m  Cell \u001b[0;32mIn[23], line 1\u001b[0;36m\u001b[0m\n\u001b[0;31m    add(num1=3,8)\u001b[0m\n\u001b[0m                ^\u001b[0m\n\u001b[0;31mSyntaxError\u001b[0m\u001b[0;31m:\u001b[0m positional argument follows keyword argument\n"
     ]
    }
   ],
   "source": [
    "add(num1=3,8)"
   ]
  },
  {
   "cell_type": "code",
   "execution_count": 24,
   "id": "9f070e42",
   "metadata": {},
   "outputs": [],
   "source": [
    "#Default Arguments\n",
    "def add(a=9,b=7):\n",
    "    print(a+b)"
   ]
  },
  {
   "cell_type": "code",
   "execution_count": 25,
   "id": "3da149fe",
   "metadata": {},
   "outputs": [
    {
     "name": "stdout",
     "output_type": "stream",
     "text": [
      "16\n"
     ]
    }
   ],
   "source": [
    "add()"
   ]
  },
  {
   "cell_type": "code",
   "execution_count": 26,
   "id": "93d3a9d0",
   "metadata": {},
   "outputs": [
    {
     "name": "stdout",
     "output_type": "stream",
     "text": [
      "14\n"
     ]
    }
   ],
   "source": [
    "add(6,8)"
   ]
  },
  {
   "cell_type": "code",
   "execution_count": 27,
   "id": "8f6ebd38",
   "metadata": {},
   "outputs": [],
   "source": [
    "def sum(a,b):\n",
    "    return(a+b)"
   ]
  },
  {
   "cell_type": "code",
   "execution_count": 28,
   "id": "0d815247",
   "metadata": {},
   "outputs": [
    {
     "ename": "TypeError",
     "evalue": "sum() takes 2 positional arguments but 4 were given",
     "output_type": "error",
     "traceback": [
      "\u001b[0;31m---------------------------------------------------------------------------\u001b[0m",
      "\u001b[0;31mTypeError\u001b[0m                                 Traceback (most recent call last)",
      "Cell \u001b[0;32mIn[28], line 1\u001b[0m\n\u001b[0;32m----> 1\u001b[0m \u001b[38;5;28msum\u001b[39m(\u001b[38;5;241m8\u001b[39m,\u001b[38;5;241m64\u001b[39m,\u001b[38;5;241m3\u001b[39m,\u001b[38;5;241m45\u001b[39m)\n",
      "\u001b[0;31mTypeError\u001b[0m: sum() takes 2 positional arguments but 4 were given"
     ]
    }
   ],
   "source": [
    "sum(8,64,3,45)"
   ]
  },
  {
   "cell_type": "code",
   "execution_count": 32,
   "id": "332eeba8",
   "metadata": {},
   "outputs": [],
   "source": [
    "#Variable Length Argument\n",
    "def sum(*num):\n",
    "    total = 0\n",
    "    for i in num:\n",
    "        total=total+i\n",
    "    return(total)"
   ]
  },
  {
   "cell_type": "code",
   "execution_count": 31,
   "id": "afb99ff9",
   "metadata": {},
   "outputs": [
    {
     "ename": "TypeError",
     "evalue": "unsupported operand type(s) for +: 'int' and 'tuple'",
     "output_type": "error",
     "traceback": [
      "\u001b[0;31m---------------------------------------------------------------------------\u001b[0m",
      "\u001b[0;31mTypeError\u001b[0m                                 Traceback (most recent call last)",
      "Cell \u001b[0;32mIn[31], line 1\u001b[0m\n\u001b[0;32m----> 1\u001b[0m \u001b[38;5;28msum\u001b[39m(\u001b[38;5;241m1\u001b[39m,\u001b[38;5;241m5\u001b[39m,\u001b[38;5;241m3\u001b[39m,\u001b[38;5;241m7\u001b[39m)\n",
      "Cell \u001b[0;32mIn[29], line 5\u001b[0m, in \u001b[0;36msum\u001b[0;34m(*num)\u001b[0m\n\u001b[1;32m      3\u001b[0m total \u001b[38;5;241m=\u001b[39m \u001b[38;5;241m0\u001b[39m\n\u001b[1;32m      4\u001b[0m \u001b[38;5;28;01mfor\u001b[39;00m i \u001b[38;5;129;01min\u001b[39;00m num:\n\u001b[0;32m----> 5\u001b[0m     total\u001b[38;5;241m=\u001b[39mtotal\u001b[38;5;241m+\u001b[39mnum\n\u001b[1;32m      6\u001b[0m \u001b[38;5;28;01mreturn\u001b[39;00m(total)\n",
      "\u001b[0;31mTypeError\u001b[0m: unsupported operand type(s) for +: 'int' and 'tuple'"
     ]
    }
   ],
   "source": [
    "sum(1,5,3,7)"
   ]
  },
  {
   "cell_type": "code",
   "execution_count": 33,
   "id": "ec656917",
   "metadata": {},
   "outputs": [
    {
     "data": {
      "text/plain": [
       "16"
      ]
     },
     "execution_count": 33,
     "metadata": {},
     "output_type": "execute_result"
    }
   ],
   "source": [
    "sum(1,5,3,7)"
   ]
  },
  {
   "cell_type": "code",
   "execution_count": 34,
   "id": "7ec36d66",
   "metadata": {},
   "outputs": [
    {
     "name": "stdout",
     "output_type": "stream",
     "text": [
      "Name John\n",
      "Age 30\n",
      "City Mumbai\n",
      "Dept IT\n"
     ]
    }
   ],
   "source": [
    "#Keyword Variable Length\n",
    "def info(**args):\n",
    "    for i,j in args.items():\n",
    "        print(i,j)\n",
    "info(Name=\"John\",Age=\"30\",City=\"Mumbai\",Dept=\"IT\")\n",
    "        "
   ]
  },
  {
   "cell_type": "code",
   "execution_count": 35,
   "id": "ebad5581",
   "metadata": {},
   "outputs": [
    {
     "name": "stdout",
     "output_type": "stream",
     "text": [
      "Anushka\n",
      "(22, 'IT', 655084, 'Kannauj')\n"
     ]
    }
   ],
   "source": [
    "def person(name,*args):\n",
    "    print(name)\n",
    "    print(args)\n",
    "person(\"Anushka\",22,\"IT\",655084,\"Kannauj\")"
   ]
  },
  {
   "cell_type": "code",
   "execution_count": 36,
   "id": "7ed9d83f",
   "metadata": {},
   "outputs": [
    {
     "name": "stdout",
     "output_type": "stream",
     "text": [
      "Anushka\n",
      "Age 22\n",
      "Dept IT\n",
      "ID 655084\n",
      "City Kannauj\n"
     ]
    }
   ],
   "source": [
    "def person(name,**args):\n",
    "    print(name)\n",
    "    for i,j in args.items():\n",
    "        print(i,j)\n",
    "person(\"Anushka\",Age='22',Dept=\"IT\",ID=\"655084\",City=\"Kannauj\")"
   ]
  },
  {
   "cell_type": "code",
   "execution_count": null,
   "id": "307329e6",
   "metadata": {},
   "outputs": [],
   "source": [
    "#Task: Oil and Gas Equipment and Drilling Site Management System\n",
    "\n",
    " \n",
    "#You are tasked with developing a Python program for an oil and gas company to manage their drilling equipment and drilling sites. The program should use *args and **kwargs to provide flexibility in adding and searching for equipment and sites. Here are the tasks you need to complete:\n",
    "#Create a Python script that defines empty lists for drilling equipment and drilling sites.\n",
    "\n",
    " \n",
    "#Implement a function add_equipment that takes the following parameters:\n",
    " \n",
    "\n",
    "#equipment_type (string): The type of equipment being added.\n",
    "#*args (tuple): Additional details about the equipment (e.g., model, power, capacity).\n",
    "#**kwargs (dictionary): Additional attributes of the equipment (e.g., vendor, power source).\n",
    "#The function should create a dictionary representing the equipment, including its type, details (from *args), and attributes (from **kwargs). Then, it should append this dictionary to the drilling_equipment list."
   ]
  },
  {
   "cell_type": "code",
   "execution_count": null,
   "id": "d2026067",
   "metadata": {},
   "outputs": [],
   "source": [
    "#list Creation\n",
    "Drilling_Equipment = []\n",
    "Drilling_Site = []"
   ]
  },
  {
   "cell_type": "code",
   "execution_count": 40,
   "id": "cef7be11",
   "metadata": {},
   "outputs": [
    {
     "name": "stdout",
     "output_type": "stream",
     "text": [
      "[{'equipment': 'Pump', 'details': ('Model: X', 100, 10), 'attributes': {'Vendor': 'A'}}]\n"
     ]
    }
   ],
   "source": [
    "#list Creation\n",
    "Drilling_Equipment = []\n",
    "Drilling_Site = []\n",
    "def add_equipment(equipment_type,*args,**keyargs):\n",
    "    equipments={\n",
    "        \"equipment\":equipment_type,\n",
    "        \"details\":args,\n",
    "        \"attributes\":keyargs\n",
    "    }\n",
    "    Drilling_Equipment.append(equipments)\n",
    "add_equipment(\"Pump\",\"Model: X\",100,10,Vendor=\"A\")\n",
    "print(Drilling_Equipment)"
   ]
  },
  {
   "cell_type": "code",
   "execution_count": null,
   "id": "df342cc0",
   "metadata": {},
   "outputs": [],
   "source": [
    "#Implement a function add_drilling_site with similar parameters:\n",
    "\n",
    " \n",
    "\n",
    "#site_name (string): The name of the drilling site being added.\n",
    "#*args (tuple): Additional details about the site (e.g., location, depth, terrain).\n",
    "#**kwargs (dictionary): Additional attributes of the site (e.g., status, operator).\n",
    "#The function should create a dictionary representing the site, including its name, details (from *args), and attributes (from **kwargs). Then, it should append this dictionary to the drilling_sites list."
   ]
  },
  {
   "cell_type": "code",
   "execution_count": 43,
   "id": "2379e4be",
   "metadata": {},
   "outputs": [
    {
     "name": "stdout",
     "output_type": "stream",
     "text": [
      "[{'name': 'XYZ', 'details': ('Location: X', 'Depth: 100m'), 'attributes': {'Status': 'In Processing', 'Operator': 'ABC'}}]\n"
     ]
    }
   ],
   "source": [
    "\n",
    "Drilling_Site = []\n",
    "def add_site(site_name,*args,**keyargs):\n",
    "    sites={\n",
    "        \"name\":site_name,\n",
    "        \"details\":args,\n",
    "        \"attributes\":keyargs\n",
    "    }\n",
    "    Drilling_Site.append(sites)\n",
    "add_site(\"XYZ\",\"Location: X\",\"Depth: 100m\",Status=\"In Processing\", Operator=\"ABC\")\n",
    "print(Drilling_Site)"
   ]
  },
  {
   "cell_type": "code",
   "execution_count": null,
   "id": "50c9734c",
   "metadata": {},
   "outputs": [],
   "source": [
    "#recursive function: function that calls itself"
   ]
  },
  {
   "cell_type": "code",
   "execution_count": 44,
   "id": "f334b0d8",
   "metadata": {},
   "outputs": [
    {
     "data": {
      "text/plain": [
       "24"
      ]
     },
     "execution_count": 44,
     "metadata": {},
     "output_type": "execute_result"
    }
   ],
   "source": [
    "def fact(num):\n",
    "    if(num==0):\n",
    "        return 1;\n",
    "    else:\n",
    "        return num*fact(num-1)\n",
    "fact(4)"
   ]
  },
  {
   "cell_type": "code",
   "execution_count": 54,
   "id": "9fca41fd",
   "metadata": {},
   "outputs": [
    {
     "name": "stdout",
     "output_type": "stream",
     "text": [
      "21\n"
     ]
    }
   ],
   "source": [
    "def fibo(n):\n",
    "    if(n<=1):\n",
    "        return n;\n",
    "    else:\n",
    "        return fibo(n-1)+fibo(n-2)\n",
    "result = fibo(8)\n",
    "print(result)\n"
   ]
  },
  {
   "cell_type": "code",
   "execution_count": 123,
   "id": "e2700ec2",
   "metadata": {},
   "outputs": [
    {
     "name": "stdout",
     "output_type": "stream",
     "text": [
      "0 1\n"
     ]
    },
    {
     "ename": "UnboundLocalError",
     "evalue": "cannot access local variable 'a' where it is not associated with a value",
     "output_type": "error",
     "traceback": [
      "\u001b[0;31m---------------------------------------------------------------------------\u001b[0m",
      "\u001b[0;31mUnboundLocalError\u001b[0m                         Traceback (most recent call last)",
      "Cell \u001b[0;32mIn[123], line 11\u001b[0m\n\u001b[1;32m      9\u001b[0m     fibo(n\u001b[38;5;241m-\u001b[39m\u001b[38;5;241m1\u001b[39m)\n\u001b[1;32m     10\u001b[0m \u001b[38;5;28mprint\u001b[39m(a,b)\n\u001b[0;32m---> 11\u001b[0m fibo(\u001b[38;5;241m6\u001b[39m)\n",
      "Cell \u001b[0;32mIn[123], line 5\u001b[0m, in \u001b[0;36mfibo\u001b[0;34m(n)\u001b[0m\n\u001b[1;32m      4\u001b[0m \u001b[38;5;28;01mdef\u001b[39;00m \u001b[38;5;21mfibo\u001b[39m(n):\n\u001b[0;32m----> 5\u001b[0m     c\u001b[38;5;241m=\u001b[39ma\u001b[38;5;241m+\u001b[39mb;\n\u001b[1;32m      6\u001b[0m     a\u001b[38;5;241m=\u001b[39mb;\n\u001b[1;32m      7\u001b[0m     b\u001b[38;5;241m=\u001b[39mc;\n",
      "\u001b[0;31mUnboundLocalError\u001b[0m: cannot access local variable 'a' where it is not associated with a value"
     ]
    }
   ],
   "source": [
    "a=0\n",
    "b=1\n",
    "c=0\n",
    "def fibo(n):\n",
    "    c=a+b;\n",
    "    a=b;\n",
    "    b=c;\n",
    "    print(\" \",c)\n",
    "    fibo(n-1)\n",
    "print(a,b)\n",
    "fibo(6)"
   ]
  },
  {
   "cell_type": "code",
   "execution_count": null,
   "id": "121e020f",
   "metadata": {},
   "outputs": [],
   "source": [
    "#Decorator Function"
   ]
  },
  {
   "cell_type": "code",
   "execution_count": 56,
   "id": "5812c867",
   "metadata": {},
   "outputs": [
    {
     "data": {
      "text/plain": [
       "2.5"
      ]
     },
     "execution_count": 56,
     "metadata": {},
     "output_type": "execute_result"
    }
   ],
   "source": [
    "def divide(a,b):\n",
    "    if(a<b):\n",
    "        a,b=b,a\n",
    "    c=a/b\n",
    "    return c\n",
    "divide(2,5)"
   ]
  },
  {
   "cell_type": "code",
   "execution_count": 58,
   "id": "526fc6be",
   "metadata": {},
   "outputs": [
    {
     "data": {
      "text/plain": [
       "0.4"
      ]
     },
     "execution_count": 58,
     "metadata": {},
     "output_type": "execute_result"
    }
   ],
   "source": [
    "def org_div(a,b):\n",
    "    return a/b\n",
    "org_div(2,5)"
   ]
  },
  {
   "cell_type": "code",
   "execution_count": 59,
   "id": "27152414",
   "metadata": {},
   "outputs": [],
   "source": [
    "def smart_div(func):\n",
    "    def swap(a,b):\n",
    "        if(a<b):\n",
    "            a,b=b,a\n",
    "        return func(a,b)\n",
    "    return swap"
   ]
  },
  {
   "cell_type": "code",
   "execution_count": 64,
   "id": "04e4e832",
   "metadata": {},
   "outputs": [],
   "source": [
    "res=smart_div(org_div)"
   ]
  },
  {
   "cell_type": "code",
   "execution_count": 65,
   "id": "dd02f2c3",
   "metadata": {},
   "outputs": [
    {
     "data": {
      "text/plain": [
       "2.5"
      ]
     },
     "execution_count": 65,
     "metadata": {},
     "output_type": "execute_result"
    }
   ],
   "source": [
    "res(2,5)"
   ]
  },
  {
   "cell_type": "code",
   "execution_count": 66,
   "id": "7cb54b0c",
   "metadata": {},
   "outputs": [
    {
     "data": {
      "text/plain": [
       "2.5"
      ]
     },
     "execution_count": 66,
     "metadata": {},
     "output_type": "execute_result"
    }
   ],
   "source": [
    "res(5,2)"
   ]
  },
  {
   "cell_type": "code",
   "execution_count": 68,
   "id": "75ea42cd",
   "metadata": {},
   "outputs": [],
   "source": [
    "def wish(name):\n",
    "    print(\"Hello\",name,\"Good Morning\")"
   ]
  },
  {
   "cell_type": "code",
   "execution_count": 97,
   "id": "f562ff22",
   "metadata": {},
   "outputs": [],
   "source": [
    "def deco_wish(func):\n",
    "    def change(name):\n",
    "        if(name==\"Robert\"):\n",
    "            print(\"Hello\",name,\"Bad Morning\")\n",
    "        else:\n",
    "            return func(name)\n",
    "    return change\n",
    "        "
   ]
  },
  {
   "cell_type": "code",
   "execution_count": 98,
   "id": "1929068d",
   "metadata": {},
   "outputs": [],
   "source": [
    "msg = deco_wish(wish)"
   ]
  },
  {
   "cell_type": "code",
   "execution_count": 93,
   "id": "e0907694",
   "metadata": {},
   "outputs": [
    {
     "name": "stdout",
     "output_type": "stream",
     "text": [
      "Hello Anushka Good Morning\n"
     ]
    }
   ],
   "source": [
    "msg(\"Anushka\")"
   ]
  },
  {
   "cell_type": "code",
   "execution_count": 99,
   "id": "86843f73",
   "metadata": {},
   "outputs": [
    {
     "name": "stdout",
     "output_type": "stream",
     "text": [
      "Hello Robert Bad Morning\n"
     ]
    }
   ],
   "source": [
    "msg(\"Robert\")"
   ]
  },
  {
   "cell_type": "code",
   "execution_count": 115,
   "id": "009b8936",
   "metadata": {},
   "outputs": [],
   "source": [
    "def add(a,b):\n",
    "    return a+b"
   ]
  },
  {
   "cell_type": "code",
   "execution_count": 117,
   "id": "0b5bad07",
   "metadata": {},
   "outputs": [],
   "source": [
    "def multiply(a,b):\n",
    "    return a*b"
   ]
  },
  {
   "cell_type": "code",
   "execution_count": 118,
   "id": "c59a8dc9",
   "metadata": {},
   "outputs": [],
   "source": [
    "def log_function_call(fun):\n",
    "    def inner(a,b):\n",
    "        return fun(a,b)\n",
    "    return inner"
   ]
  },
  {
   "cell_type": "code",
   "execution_count": 119,
   "id": "aab59ae7",
   "metadata": {},
   "outputs": [],
   "source": [
    "res = log_function_call(add)"
   ]
  },
  {
   "cell_type": "code",
   "execution_count": 120,
   "id": "905aa6eb",
   "metadata": {},
   "outputs": [
    {
     "name": "stdout",
     "output_type": "stream",
     "text": [
      "<function log_function_call.<locals>.inner at 0x7fbb51abdbc0>\n"
     ]
    }
   ],
   "source": [
    "print(res)"
   ]
  },
  {
   "cell_type": "code",
   "execution_count": 121,
   "id": "345167bf",
   "metadata": {},
   "outputs": [
    {
     "data": {
      "text/plain": [
       "17"
      ]
     },
     "execution_count": 121,
     "metadata": {},
     "output_type": "execute_result"
    }
   ],
   "source": [
    "res(8,9)"
   ]
  },
  {
   "cell_type": "code",
   "execution_count": 122,
   "id": "64a7c59b",
   "metadata": {},
   "outputs": [
    {
     "data": {
      "text/plain": [
       "72"
      ]
     },
     "execution_count": 122,
     "metadata": {},
     "output_type": "execute_result"
    }
   ],
   "source": [
    "res  = log_function_call(multiply)\n",
    "res(8,9)"
   ]
  },
  {
   "cell_type": "code",
   "execution_count": null,
   "id": "2e0294a9",
   "metadata": {},
   "outputs": [],
   "source": [
    "#Generator Function: yield keyword to yield a sequence of value one at a time instead of returning all at once."
   ]
  },
  {
   "cell_type": "code",
   "execution_count": 125,
   "id": "b9b6bb33",
   "metadata": {},
   "outputs": [
    {
     "data": {
      "text/plain": [
       "<generator object count at 0x7fbb51bf6a80>"
      ]
     },
     "execution_count": 125,
     "metadata": {},
     "output_type": "execute_result"
    }
   ],
   "source": [
    "def count(n):\n",
    "    i=1;\n",
    "    while(i<=n):\n",
    "        yield i;\n",
    "        i=i+1;\n",
    "count(9)"
   ]
  },
  {
   "cell_type": "code",
   "execution_count": 127,
   "id": "945b7616",
   "metadata": {},
   "outputs": [
    {
     "name": "stdout",
     "output_type": "stream",
     "text": [
      "1\n",
      "2\n",
      "3\n",
      "4\n",
      "5\n",
      "6\n",
      "7\n",
      "8\n",
      "9\n",
      "10\n"
     ]
    }
   ],
   "source": [
    "for i in count(10):\n",
    "    print(i)"
   ]
  },
  {
   "cell_type": "code",
   "execution_count": 1,
   "id": "8bf5befd",
   "metadata": {},
   "outputs": [],
   "source": [
    "#List Comprehension\n",
    "list = [expression for items in list based on if condition]"
   ]
  },
  {
   "cell_type": "code",
   "execution_count": 3,
   "id": "7f98b44c",
   "metadata": {},
   "outputs": [
    {
     "name": "stdout",
     "output_type": "stream",
     "text": [
      "[1, 4, 9, 16, 25]\n"
     ]
    }
   ],
   "source": [
    "num = [1,2,3,4,5]\n",
    "sq=[x**2 for x in num]\n",
    "print(sq)"
   ]
  },
  {
   "cell_type": "code",
   "execution_count": 4,
   "id": "4f3da5ad",
   "metadata": {},
   "outputs": [
    {
     "name": "stdout",
     "output_type": "stream",
     "text": [
      "[2, 4, 6, 8, 10]\n"
     ]
    }
   ],
   "source": [
    "twice = [x*2 for x in num]\n",
    "print(twice)"
   ]
  },
  {
   "cell_type": "code",
   "execution_count": 6,
   "id": "22d3df7f",
   "metadata": {},
   "outputs": [
    {
     "name": "stdout",
     "output_type": "stream",
     "text": [
      "[2, 4]\n"
     ]
    }
   ],
   "source": [
    "even = [x for x in num if x%2==0]\n",
    "print(even)"
   ]
  },
  {
   "cell_type": "code",
   "execution_count": 9,
   "id": "295a15d1",
   "metadata": {},
   "outputs": [
    {
     "name": "stdout",
     "output_type": "stream",
     "text": [
      "['p', 'j', 'a', 'p']\n"
     ]
    }
   ],
   "source": [
    "list = [\"python\",\"java\",\"azure\",\"power bi\"]\n",
    "res =  [s[0] for s in list]\n",
    "print(res)"
   ]
  },
  {
   "cell_type": "code",
   "execution_count": 12,
   "id": "3ea9bddc",
   "metadata": {},
   "outputs": [
    {
     "name": "stdout",
     "output_type": "stream",
     "text": [
      "['Python', 'Java', 'Azure', 'Power BI', 'Sql']\n"
     ]
    }
   ],
   "source": [
    "list = [\"python\",\"java\",\"azure\",\"power BI\",\"sql\"]\n",
    "res = [s[0].upper()+s[1:] for s in list]\n",
    "print(res)"
   ]
  },
  {
   "cell_type": "code",
   "execution_count": 13,
   "id": "03dfc9df",
   "metadata": {},
   "outputs": [
    {
     "name": "stdout",
     "output_type": "stream",
     "text": [
      "['Python', 'Java', 'Azure', 'Power BI', 'Sql']\n"
     ]
    }
   ],
   "source": [
    "list = [\"python\",\"java\",\"azure\",\"power BI\",\"sql\"]\n",
    "print([s[0].upper()+s[1:] for s in list])"
   ]
  },
  {
   "cell_type": "code",
   "execution_count": 23,
   "id": "f00a1c0e",
   "metadata": {},
   "outputs": [
    {
     "ename": "AttributeError",
     "evalue": "'int' object has no attribute 'upper'",
     "output_type": "error",
     "traceback": [
      "\u001b[0;31m---------------------------------------------------------------------------\u001b[0m",
      "\u001b[0;31mAttributeError\u001b[0m                            Traceback (most recent call last)",
      "Cell \u001b[0;32mIn[23], line 3\u001b[0m\n\u001b[1;32m      1\u001b[0m words \u001b[38;5;241m=\u001b[39m \u001b[38;5;124m\"\u001b[39m\u001b[38;5;124mthe quick brown fox jumps over the lazy dog\u001b[39m\u001b[38;5;124m\"\u001b[39m\n\u001b[1;32m      2\u001b[0m list1 \u001b[38;5;241m=\u001b[39m words\u001b[38;5;241m.\u001b[39msplit(\u001b[38;5;124m\"\u001b[39m\u001b[38;5;124m \u001b[39m\u001b[38;5;124m\"\u001b[39m)\n\u001b[0;32m----> 3\u001b[0m res \u001b[38;5;241m=\u001b[39m [[s\u001b[38;5;241m.\u001b[39mupper(),\u001b[38;5;28mlen\u001b[39m(s)]\u001b[38;5;28;01mfor\u001b[39;00m s \u001b[38;5;129;01min\u001b[39;00m \u001b[38;5;28mlist\u001b[39m]\n\u001b[1;32m      4\u001b[0m \u001b[38;5;28mprint\u001b[39m(res)\n",
      "Cell \u001b[0;32mIn[23], line 3\u001b[0m, in \u001b[0;36m<listcomp>\u001b[0;34m(.0)\u001b[0m\n\u001b[1;32m      1\u001b[0m words \u001b[38;5;241m=\u001b[39m \u001b[38;5;124m\"\u001b[39m\u001b[38;5;124mthe quick brown fox jumps over the lazy dog\u001b[39m\u001b[38;5;124m\"\u001b[39m\n\u001b[1;32m      2\u001b[0m list1 \u001b[38;5;241m=\u001b[39m words\u001b[38;5;241m.\u001b[39msplit(\u001b[38;5;124m\"\u001b[39m\u001b[38;5;124m \u001b[39m\u001b[38;5;124m\"\u001b[39m)\n\u001b[0;32m----> 3\u001b[0m res \u001b[38;5;241m=\u001b[39m [[s\u001b[38;5;241m.\u001b[39mupper(),\u001b[38;5;28mlen\u001b[39m(s)]\u001b[38;5;28;01mfor\u001b[39;00m s \u001b[38;5;129;01min\u001b[39;00m \u001b[38;5;28mlist\u001b[39m]\n\u001b[1;32m      4\u001b[0m \u001b[38;5;28mprint\u001b[39m(res)\n",
      "\u001b[0;31mAttributeError\u001b[0m: 'int' object has no attribute 'upper'"
     ]
    }
   ],
   "source": [
    "words = \"the quick brown fox jumps over the lazy dog\"\n",
    "list1 = words.split(\" \")\n",
    "res = [[s.upper(),len(s)]for s in list1]\n",
    "print(res)"
   ]
  },
  {
   "cell_type": "code",
   "execution_count": null,
   "id": "587c40bf",
   "metadata": {},
   "outputs": [],
   "source": [
    "#Lambda Function/Anonymous Function: function with no name"
   ]
  },
  {
   "cell_type": "code",
   "execution_count": 16,
   "id": "aaf27a7a",
   "metadata": {},
   "outputs": [
    {
     "data": {
      "text/plain": [
       "9"
      ]
     },
     "execution_count": 16,
     "metadata": {},
     "output_type": "execute_result"
    }
   ],
   "source": [
    "f=lambda i:i*i\n",
    "f(3)"
   ]
  },
  {
   "cell_type": "code",
   "execution_count": 17,
   "id": "a0b68844",
   "metadata": {},
   "outputs": [
    {
     "data": {
      "text/plain": [
       "7"
      ]
     },
     "execution_count": 17,
     "metadata": {},
     "output_type": "execute_result"
    }
   ],
   "source": [
    "f=lambda a,b:a+b\n",
    "f(3,4)"
   ]
  },
  {
   "cell_type": "code",
   "execution_count": 19,
   "id": "b04e3145",
   "metadata": {},
   "outputs": [
    {
     "data": {
      "text/plain": [
       "7"
      ]
     },
     "execution_count": 19,
     "metadata": {},
     "output_type": "execute_result"
    }
   ],
   "source": [
    "f=lambda a,b:a if a>b else b\n",
    "f(3,7)"
   ]
  },
  {
   "cell_type": "code",
   "execution_count": null,
   "id": "92c9e9f0",
   "metadata": {},
   "outputs": [],
   "source": [
    "#Filter, Map Function in List"
   ]
  },
  {
   "cell_type": "code",
   "execution_count": 1,
   "id": "ae5d45c2",
   "metadata": {},
   "outputs": [
    {
     "name": "stdout",
     "output_type": "stream",
     "text": [
      "[4, 8, 12, 26]\n"
     ]
    }
   ],
   "source": [
    "def evenodd(n):\n",
    "    if(n%2==0):\n",
    "        return True\n",
    "    else:\n",
    "        return False\n",
    "num = [1,4,3,8,12,33,26,31]\n",
    "res = list(filter(evenodd,num))\n",
    "print(res)"
   ]
  },
  {
   "cell_type": "code",
   "execution_count": 8,
   "id": "31c93f53",
   "metadata": {},
   "outputs": [
    {
     "name": "stdout",
     "output_type": "stream",
     "text": [
      "[4, 8, 12, 26]\n"
     ]
    }
   ],
   "source": [
    "res = list(filter(lambda a:a%2==0,num))\n",
    "print(res)"
   ]
  },
  {
   "cell_type": "code",
   "execution_count": 10,
   "id": "8d01fba5",
   "metadata": {},
   "outputs": [
    {
     "name": "stdout",
     "output_type": "stream",
     "text": [
      "[100, 121, 289, 196, 225]\n"
     ]
    }
   ],
   "source": [
    "num = [10,11,17,14,15]\n",
    "def sq(n):\n",
    "    return n**2\n",
    "res = list(map(sq,num))\n",
    "print(res)"
   ]
  },
  {
   "cell_type": "code",
   "execution_count": 11,
   "id": "90e482a2",
   "metadata": {},
   "outputs": [
    {
     "name": "stdout",
     "output_type": "stream",
     "text": [
      "[100, 121, 289, 196, 225]\n"
     ]
    }
   ],
   "source": [
    "res = list(map(lambda a:a**2,num))\n",
    "print(res)"
   ]
  },
  {
   "cell_type": "code",
   "execution_count": 12,
   "id": "fc72512c",
   "metadata": {},
   "outputs": [
    {
     "name": "stdout",
     "output_type": "stream",
     "text": [
      "['HELLO', 'WORLD', 'LAMBDA', 'EXPRESSION']\n"
     ]
    }
   ],
   "source": [
    "words = [\"hello\",\"world\",\"lambda\",\"expression\"]\n",
    "f=lambda a:a.upper()\n",
    "res = list(map(f,words))\n",
    "print(res)"
   ]
  },
  {
   "cell_type": "code",
   "execution_count": 19,
   "id": "1144bc24",
   "metadata": {},
   "outputs": [
    {
     "name": "stdout",
     "output_type": "stream",
     "text": [
      "[{'name': 'Nirati', 'age': 15}, {'name': 'Anushka', 'age': 22}, {'name': 'Ahilya', 'age': 28}, {'name': 'Aditi', 'age': 37}]\n"
     ]
    }
   ],
   "source": [
    "people = [{\"name\":\"Anushka\",\"age\":22},\n",
    "         {\"name\":\"Nirati\",\"age\":15},\n",
    "         {\"name\":\"Ahilya\",\"age\":28},\n",
    "         {\"name\":\"Aditi\",\"age\":37}]\n",
    "res = sorted(people,key=lambda i: i['age'])\n",
    "print(res)"
   ]
  },
  {
   "cell_type": "code",
   "execution_count": null,
   "id": "74c7e6c3",
   "metadata": {},
   "outputs": [],
   "source": [
    "#CLASS\n",
    "class class_name:\n",
    "    variables (attributes)\n",
    "    methods (functions)"
   ]
  },
  {
   "cell_type": "code",
   "execution_count": 21,
   "id": "14d2f77a",
   "metadata": {},
   "outputs": [
    {
     "name": "stdout",
     "output_type": "stream",
     "text": [
      "i5, 16GB\n"
     ]
    }
   ],
   "source": [
    "class computer:\n",
    "    def config(self):\n",
    "        print(\"i5, 16GB\")\n",
    "comp1=computer()\n",
    "comp1.config()"
   ]
  },
  {
   "cell_type": "code",
   "execution_count": null,
   "id": "1216c082",
   "metadata": {},
   "outputs": [],
   "source": []
  }
 ],
 "metadata": {
  "kernelspec": {
   "display_name": "Python 3 (ipykernel)",
   "language": "python",
   "name": "python3"
  },
  "language_info": {
   "codemirror_mode": {
    "name": "ipython",
    "version": 3
   },
   "file_extension": ".py",
   "mimetype": "text/x-python",
   "name": "python",
   "nbconvert_exporter": "python",
   "pygments_lexer": "ipython3",
   "version": "3.11.4"
  }
 },
 "nbformat": 4,
 "nbformat_minor": 5
}
