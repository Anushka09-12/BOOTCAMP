{
 "cells": [
  {
   "cell_type": "code",
   "execution_count": 1,
   "id": "1be95106",
   "metadata": {},
   "outputs": [
    {
     "ename": "SyntaxError",
     "evalue": "invalid syntax (1240206787.py, line 1)",
     "output_type": "error",
     "traceback": [
      "\u001b[0;36m  Cell \u001b[0;32mIn[1], line 1\u001b[0;36m\u001b[0m\n\u001b[0;31m    Pyhton Fundamnetal Data Types\u001b[0m\n\u001b[0m           ^\u001b[0m\n\u001b[0;31mSyntaxError\u001b[0m\u001b[0;31m:\u001b[0m invalid syntax\n"
     ]
    }
   ],
   "source": [
    "Pyhton Fundamental Data Types"
   ]
  },
  {
   "cell_type": "code",
   "execution_count": 2,
   "id": "78428bee",
   "metadata": {},
   "outputs": [
    {
     "name": "stdout",
     "output_type": "stream",
     "text": [
      "Welcome\n"
     ]
    }
   ],
   "source": [
    "print(\"Welcome\")"
   ]
  },
  {
   "cell_type": "code",
   "execution_count": 3,
   "id": "c82317ff",
   "metadata": {},
   "outputs": [
    {
     "data": {
      "text/plain": [
       "int"
      ]
     },
     "execution_count": 3,
     "metadata": {},
     "output_type": "execute_result"
    }
   ],
   "source": [
    "a=10\n",
    "type(a)"
   ]
  },
  {
   "cell_type": "code",
   "execution_count": 4,
   "id": "32976b73",
   "metadata": {},
   "outputs": [
    {
     "name": "stdout",
     "output_type": "stream",
     "text": [
      "10\n"
     ]
    }
   ],
   "source": [
    "a=10\n",
    "print(a)"
   ]
  },
  {
   "cell_type": "code",
   "execution_count": 5,
   "id": "c1cb962b",
   "metadata": {},
   "outputs": [
    {
     "name": "stdout",
     "output_type": "stream",
     "text": [
      "<class 'int'>\n"
     ]
    }
   ],
   "source": [
    "print(type(a))"
   ]
  },
  {
   "cell_type": "code",
   "execution_count": 8,
   "id": "dedc2f45",
   "metadata": {},
   "outputs": [
    {
     "name": "stdout",
     "output_type": "stream",
     "text": [
      "10.4\n"
     ]
    }
   ],
   "source": [
    "a=10.4\n",
    "type(a)\n",
    "print(a)"
   ]
  },
  {
   "cell_type": "code",
   "execution_count": 9,
   "id": "317a1298",
   "metadata": {},
   "outputs": [
    {
     "name": "stdout",
     "output_type": "stream",
     "text": [
      "python\n"
     ]
    }
   ],
   "source": [
    "b='python'\n",
    "print(b)"
   ]
  },
  {
   "cell_type": "code",
   "execution_count": 10,
   "id": "bdd38a22",
   "metadata": {},
   "outputs": [
    {
     "name": "stdout",
     "output_type": "stream",
     "text": [
      "<class 'str'>\n"
     ]
    }
   ],
   "source": [
    "print(type(b))"
   ]
  },
  {
   "cell_type": "code",
   "execution_count": 11,
   "id": "2c8aa346",
   "metadata": {},
   "outputs": [
    {
     "ename": "SyntaxError",
     "evalue": "unterminated string literal (detected at line 1) (1949868117.py, line 1)",
     "output_type": "error",
     "traceback": [
      "\u001b[0;36m  Cell \u001b[0;32mIn[11], line 1\u001b[0;36m\u001b[0m\n\u001b[0;31m    text = \"'Data\u001b[0m\n\u001b[0m           ^\u001b[0m\n\u001b[0;31mSyntaxError\u001b[0m\u001b[0;31m:\u001b[0m unterminated string literal (detected at line 1)\n"
     ]
    }
   ],
   "source": [
    "text = \"'Data \n",
    "Engineering'\"\n",
    "print(text)"
   ]
  },
  {
   "cell_type": "code",
   "execution_count": 12,
   "id": "f051df8a",
   "metadata": {},
   "outputs": [
    {
     "name": "stdout",
     "output_type": "stream",
     "text": [
      "Data\n",
      "Enginner\n"
     ]
    }
   ],
   "source": [
    "text = '''Data\n",
    "Enginner'''\n",
    "print(text)"
   ]
  },
  {
   "cell_type": "code",
   "execution_count": 13,
   "id": "8f5f2255",
   "metadata": {},
   "outputs": [
    {
     "data": {
      "text/plain": [
       "str"
      ]
     },
     "execution_count": 13,
     "metadata": {},
     "output_type": "execute_result"
    }
   ],
   "source": [
    "type(text)"
   ]
  },
  {
   "cell_type": "code",
   "execution_count": 14,
   "id": "42dc8da6",
   "metadata": {},
   "outputs": [
    {
     "name": "stdout",
     "output_type": "stream",
     "text": [
      "False\n",
      "<class 'bool'>\n"
     ]
    }
   ],
   "source": [
    "a = False\n",
    "print(a)\n",
    "print(type(a))"
   ]
  },
  {
   "cell_type": "code",
   "execution_count": 15,
   "id": "ae5c0645",
   "metadata": {},
   "outputs": [
    {
     "name": "stdout",
     "output_type": "stream",
     "text": [
      "30\n"
     ]
    }
   ],
   "source": [
    "a=10\n",
    "b=20\n",
    "print(a+b)"
   ]
  },
  {
   "cell_type": "code",
   "execution_count": 16,
   "id": "56b46dd7",
   "metadata": {},
   "outputs": [
    {
     "name": "stdout",
     "output_type": "stream",
     "text": [
      "False\n"
     ]
    }
   ],
   "source": [
    "c=a>b\n",
    "print(c)"
   ]
  },
  {
   "cell_type": "code",
   "execution_count": 17,
   "id": "314b9b84",
   "metadata": {},
   "outputs": [
    {
     "name": "stdout",
     "output_type": "stream",
     "text": [
      "2\n"
     ]
    }
   ],
   "source": [
    "print(True+True)"
   ]
  },
  {
   "cell_type": "code",
   "execution_count": 18,
   "id": "33b10e58",
   "metadata": {},
   "outputs": [
    {
     "name": "stdout",
     "output_type": "stream",
     "text": [
      "<class 'int'>\n"
     ]
    }
   ],
   "source": [
    "print(type(True+True))"
   ]
  },
  {
   "cell_type": "code",
   "execution_count": 19,
   "id": "5b87b4f8",
   "metadata": {},
   "outputs": [
    {
     "name": "stdout",
     "output_type": "stream",
     "text": [
      "(10+20j)\n"
     ]
    }
   ],
   "source": [
    "complex = 10+20j\n",
    "print(complex)"
   ]
  },
  {
   "cell_type": "code",
   "execution_count": 20,
   "id": "8e2a9856",
   "metadata": {},
   "outputs": [
    {
     "name": "stdout",
     "output_type": "stream",
     "text": [
      "8885288\n",
      "8885288\n"
     ]
    }
   ],
   "source": [
    "a=10\n",
    "b=10\n",
    "print(id(a))\n",
    "print(id(b))"
   ]
  },
  {
   "cell_type": "code",
   "execution_count": 21,
   "id": "74dbae4a",
   "metadata": {},
   "outputs": [
    {
     "name": "stdout",
     "output_type": "stream",
     "text": [
      "8885608\n"
     ]
    }
   ],
   "source": [
    "a=20\n",
    "print(id(a))"
   ]
  },
  {
   "cell_type": "code",
   "execution_count": 22,
   "id": "2cb35c73",
   "metadata": {},
   "outputs": [
    {
     "name": "stdout",
     "output_type": "stream",
     "text": [
      "n\n"
     ]
    }
   ],
   "source": [
    "a=\"Data Engineering\"\n",
    "print(a[-2])"
   ]
  },
  {
   "cell_type": "code",
   "execution_count": 23,
   "id": "69f9b616",
   "metadata": {},
   "outputs": [
    {
     "data": {
      "text/plain": [
       "'t'"
      ]
     },
     "execution_count": 23,
     "metadata": {},
     "output_type": "execute_result"
    }
   ],
   "source": [
    "a[2]"
   ]
  },
  {
   "cell_type": "code",
   "execution_count": 24,
   "id": "68e6389d",
   "metadata": {},
   "outputs": [
    {
     "ename": "NameError",
     "evalue": "name 's' is not defined",
     "output_type": "error",
     "traceback": [
      "\u001b[0;31m---------------------------------------------------------------------------\u001b[0m",
      "\u001b[0;31mNameError\u001b[0m                                 Traceback (most recent call last)",
      "Cell \u001b[0;32mIn[24], line 1\u001b[0m\n\u001b[0;32m----> 1\u001b[0m \u001b[38;5;28mprint\u001b[39m(s[\u001b[38;5;241m0\u001b[39m:\u001b[38;5;241m4\u001b[39m])\n",
      "\u001b[0;31mNameError\u001b[0m: name 's' is not defined"
     ]
    }
   ],
   "source": [
    "print(s[0:4])"
   ]
  },
  {
   "cell_type": "code",
   "execution_count": 25,
   "id": "0108c9e9",
   "metadata": {},
   "outputs": [
    {
     "name": "stdout",
     "output_type": "stream",
     "text": [
      "Data\n"
     ]
    }
   ],
   "source": [
    "print(a[0:4])"
   ]
  },
  {
   "cell_type": "code",
   "execution_count": 26,
   "id": "21805d7b",
   "metadata": {},
   "outputs": [
    {
     "name": "stdout",
     "output_type": "stream",
     "text": [
      "Data E\n"
     ]
    }
   ],
   "source": [
    "print(a[0:6])"
   ]
  },
  {
   "cell_type": "code",
   "execution_count": 27,
   "id": "cfc6927a",
   "metadata": {},
   "outputs": [
    {
     "name": "stdout",
     "output_type": "stream",
     "text": [
      "ri\n"
     ]
    }
   ],
   "source": [
    "s=\"abcdefghijklmnopqrstuvwxyz\"\n",
    "print(a[12:14])"
   ]
  },
  {
   "cell_type": "code",
   "execution_count": 29,
   "id": "1c8a32b8",
   "metadata": {},
   "outputs": [
    {
     "ename": "SyntaxError",
     "evalue": "invalid syntax (2344364288.py, line 1)",
     "output_type": "error",
     "traceback": [
      "\u001b[0;36m  Cell \u001b[0;32mIn[29], line 1\u001b[0;36m\u001b[0m\n\u001b[0;31m    print([12:14])\u001b[0m\n\u001b[0m             ^\u001b[0m\n\u001b[0;31mSyntaxError\u001b[0m\u001b[0;31m:\u001b[0m invalid syntax\n"
     ]
    }
   ],
   "source": [
    "print([12:14])"
   ]
  },
  {
   "cell_type": "code",
   "execution_count": 30,
   "id": "7cb589b7",
   "metadata": {},
   "outputs": [
    {
     "name": "stdout",
     "output_type": "stream",
     "text": [
      "mn\n"
     ]
    }
   ],
   "source": [
    "print(s[12:14])"
   ]
  },
  {
   "cell_type": "code",
   "execution_count": 31,
   "id": "ab7ef45e",
   "metadata": {},
   "outputs": [
    {
     "data": {
      "text/plain": [
       "'xy'"
      ]
     },
     "execution_count": 31,
     "metadata": {},
     "output_type": "execute_result"
    }
   ],
   "source": [
    "s[-3:-1]"
   ]
  },
  {
   "cell_type": "code",
   "execution_count": 32,
   "id": "c90e03bb",
   "metadata": {},
   "outputs": [
    {
     "data": {
      "text/plain": [
       "'xyz'"
      ]
     },
     "execution_count": 32,
     "metadata": {},
     "output_type": "execute_result"
    }
   ],
   "source": [
    "s[-3:]"
   ]
  },
  {
   "cell_type": "code",
   "execution_count": 33,
   "id": "da9618ed",
   "metadata": {},
   "outputs": [
    {
     "data": {
      "text/plain": [
       "'abcdefghijklmnopqrstuvwxyz'"
      ]
     },
     "execution_count": 33,
     "metadata": {},
     "output_type": "execute_result"
    }
   ],
   "source": [
    "s[0:]"
   ]
  },
  {
   "cell_type": "code",
   "execution_count": 34,
   "id": "8a725012",
   "metadata": {},
   "outputs": [
    {
     "data": {
      "text/plain": [
       "'abcdefghijklmn'"
      ]
     },
     "execution_count": 34,
     "metadata": {},
     "output_type": "execute_result"
    }
   ],
   "source": [
    "s[0:14]"
   ]
  },
  {
   "cell_type": "code",
   "execution_count": 35,
   "id": "f5283b2d",
   "metadata": {},
   "outputs": [
    {
     "data": {
      "text/plain": [
       "'defghijklmnopqrstuvwxyz'"
      ]
     },
     "execution_count": 35,
     "metadata": {},
     "output_type": "execute_result"
    }
   ],
   "source": [
    "s[3:1000]"
   ]
  },
  {
   "cell_type": "code",
   "execution_count": 36,
   "id": "681ab455",
   "metadata": {},
   "outputs": [
    {
     "name": "stdout",
     "output_type": "stream",
     "text": [
      "30\n",
      "-10\n",
      "200\n",
      "0.5\n",
      "0\n"
     ]
    }
   ],
   "source": [
    "a=10\n",
    "b=20\n",
    "print(a+b)\n",
    "print(a-b)\n",
    "print(a*b)\n",
    "print(a/b)\n",
    "print(a//b)"
   ]
  },
  {
   "cell_type": "code",
   "execution_count": 37,
   "id": "26323c01",
   "metadata": {},
   "outputs": [
    {
     "name": "stdout",
     "output_type": "stream",
     "text": [
      "1.5\n",
      "1\n"
     ]
    }
   ],
   "source": [
    "a=3\n",
    "b=2\n",
    "print(a/b)\n",
    "print(a//b)"
   ]
  },
  {
   "cell_type": "code",
   "execution_count": 38,
   "id": "e666bb23",
   "metadata": {},
   "outputs": [
    {
     "name": "stdout",
     "output_type": "stream",
     "text": [
      "1.5\n",
      "1.0\n"
     ]
    }
   ],
   "source": [
    "a=3\n",
    "b=2.0\n",
    "print(a/b)\n",
    "print(a//b)"
   ]
  },
  {
   "cell_type": "code",
   "execution_count": 39,
   "id": "0da61494",
   "metadata": {},
   "outputs": [
    {
     "name": "stdout",
     "output_type": "stream",
     "text": [
      "True\n"
     ]
    }
   ],
   "source": [
    "a=20\n",
    "b=10\n",
    "print(a>b)"
   ]
  },
  {
   "cell_type": "code",
   "execution_count": 40,
   "id": "baf578a9",
   "metadata": {},
   "outputs": [
    {
     "name": "stdout",
     "output_type": "stream",
     "text": [
      "False\n"
     ]
    }
   ],
   "source": [
    "a=True\n",
    "b=False\n",
    "print(a and b)"
   ]
  },
  {
   "cell_type": "code",
   "execution_count": 41,
   "id": "4a927f5e",
   "metadata": {},
   "outputs": [
    {
     "name": "stdout",
     "output_type": "stream",
     "text": [
      "True\n"
     ]
    }
   ],
   "source": [
    "print(a or b)"
   ]
  },
  {
   "cell_type": "code",
   "execution_count": 42,
   "id": "ba38767c",
   "metadata": {},
   "outputs": [
    {
     "name": "stdout",
     "output_type": "stream",
     "text": [
      "False\n"
     ]
    }
   ],
   "source": [
    "\n",
    "is_geological_survey_complete = True\n",
    "\n",
    "is_environmental_clearance_received = True\n",
    "\n",
    "is_market_demand_high = False\n",
    "\n",
    "should_start_drilling = is_geological_survey_complete and is_environmental_clearance_received and is_market_demand_high\n",
    "print(should_start_drilling)"
   ]
  },
  {
   "cell_type": "code",
   "execution_count": 43,
   "id": "3c55cee6",
   "metadata": {},
   "outputs": [
    {
     "name": "stdout",
     "output_type": "stream",
     "text": [
      "True\n",
      "True\n"
     ]
    }
   ],
   "source": [
    "# Boolean Variables\n",
    "HasExplorationPermit = True\n",
    "HasDrillingRights = True\n",
    "HasEnvironmentalApproval = False\n",
    "HasOilDiscovery = True\n",
    "\n",
    " \n",
    "\n",
    "# Logical Operations\n",
    "IsExplorationAllowed = HasExplorationPermit and HasDrillingRights and not HasEnvironmentalApproval\n",
    "IsDiscoveryProfitable = HasOilDiscovery and (HasExplorationPermit or HasDrillingRights)\n",
    "print(IsExplorationAllowed)\n",
    "print(IsDiscoveryProfitable)"
   ]
  },
  {
   "cell_type": "code",
   "execution_count": 44,
   "id": "fec18139",
   "metadata": {},
   "outputs": [
    {
     "data": {
      "text/plain": [
       "30"
      ]
     },
     "execution_count": 44,
     "metadata": {},
     "output_type": "execute_result"
    }
   ],
   "source": [
    "10+20"
   ]
  },
  {
   "cell_type": "code",
   "execution_count": 45,
   "id": "e38896f6",
   "metadata": {},
   "outputs": [
    {
     "data": {
      "text/plain": [
       "'tentwenty'"
      ]
     },
     "execution_count": 45,
     "metadata": {},
     "output_type": "execute_result"
    }
   ],
   "source": [
    "\"ten\"+\"twenty\""
   ]
  },
  {
   "cell_type": "code",
   "execution_count": 46,
   "id": "6e24e314",
   "metadata": {},
   "outputs": [
    {
     "data": {
      "text/plain": [
       "200"
      ]
     },
     "execution_count": 46,
     "metadata": {},
     "output_type": "execute_result"
    }
   ],
   "source": [
    "10*20"
   ]
  },
  {
   "cell_type": "code",
   "execution_count": 47,
   "id": "28c26ef4",
   "metadata": {},
   "outputs": [
    {
     "ename": "TypeError",
     "evalue": "can't multiply sequence by non-int of type 'str'",
     "output_type": "error",
     "traceback": [
      "\u001b[0;31m---------------------------------------------------------------------------\u001b[0m",
      "\u001b[0;31mTypeError\u001b[0m                                 Traceback (most recent call last)",
      "Cell \u001b[0;32mIn[47], line 1\u001b[0m\n\u001b[0;32m----> 1\u001b[0m \u001b[38;5;124m\"\u001b[39m\u001b[38;5;124mten\u001b[39m\u001b[38;5;124m\"\u001b[39m\u001b[38;5;241m*\u001b[39m\u001b[38;5;124m\"\u001b[39m\u001b[38;5;124mtwenty\u001b[39m\u001b[38;5;124m\"\u001b[39m\n",
      "\u001b[0;31mTypeError\u001b[0m: can't multiply sequence by non-int of type 'str'"
     ]
    }
   ],
   "source": [
    "\"ten\"*\"twenty\""
   ]
  },
  {
   "cell_type": "code",
   "execution_count": 48,
   "id": "beb99d15",
   "metadata": {},
   "outputs": [
    {
     "data": {
      "text/plain": [
       "'tententen'"
      ]
     },
     "execution_count": 48,
     "metadata": {},
     "output_type": "execute_result"
    }
   ],
   "source": [
    "\"ten\"*3"
   ]
  },
  {
   "cell_type": "code",
   "execution_count": 49,
   "id": "bf1fe450",
   "metadata": {},
   "outputs": [
    {
     "ename": "TypeError",
     "evalue": "can only concatenate str (not \"int\") to str",
     "output_type": "error",
     "traceback": [
      "\u001b[0;31m---------------------------------------------------------------------------\u001b[0m",
      "\u001b[0;31mTypeError\u001b[0m                                 Traceback (most recent call last)",
      "Cell \u001b[0;32mIn[49], line 1\u001b[0m\n\u001b[0;32m----> 1\u001b[0m \u001b[38;5;124m\"\u001b[39m\u001b[38;5;124mten\u001b[39m\u001b[38;5;124m\"\u001b[39m\u001b[38;5;241m+\u001b[39m\u001b[38;5;241m10\u001b[39m\n",
      "\u001b[0;31mTypeError\u001b[0m: can only concatenate str (not \"int\") to str"
     ]
    }
   ],
   "source": [
    "\"ten\"+10"
   ]
  },
  {
   "cell_type": "code",
   "execution_count": 50,
   "id": "aefcdd6f",
   "metadata": {},
   "outputs": [
    {
     "data": {
      "text/plain": [
       "'ten10'"
      ]
     },
     "execution_count": 50,
     "metadata": {},
     "output_type": "execute_result"
    }
   ],
   "source": [
    "\"ten\"+'10'"
   ]
  },
  {
   "cell_type": "code",
   "execution_count": 51,
   "id": "19cc3bc1",
   "metadata": {},
   "outputs": [
    {
     "name": "stdout",
     "output_type": "stream",
     "text": [
      "[10, 'pyhton', 19, True, 'd']\n"
     ]
    }
   ],
   "source": [
    "a=[10,\"pyhton\",19,True,'d']\n",
    "print(a)"
   ]
  },
  {
   "cell_type": "code",
   "execution_count": 52,
   "id": "1f90b66d",
   "metadata": {},
   "outputs": [
    {
     "name": "stdout",
     "output_type": "stream",
     "text": [
      "<class 'list'>\n"
     ]
    }
   ],
   "source": [
    "print(type(a))"
   ]
  },
  {
   "cell_type": "code",
   "execution_count": 53,
   "id": "093ad4ab",
   "metadata": {},
   "outputs": [
    {
     "data": {
      "text/plain": [
       "10"
      ]
     },
     "execution_count": 53,
     "metadata": {},
     "output_type": "execute_result"
    }
   ],
   "source": [
    "a[0]"
   ]
  },
  {
   "cell_type": "code",
   "execution_count": 54,
   "id": "a693ed03",
   "metadata": {},
   "outputs": [
    {
     "data": {
      "text/plain": [
       "'d'"
      ]
     },
     "execution_count": 54,
     "metadata": {},
     "output_type": "execute_result"
    }
   ],
   "source": [
    "a[-1]"
   ]
  },
  {
   "cell_type": "code",
   "execution_count": 55,
   "id": "677b9406",
   "metadata": {},
   "outputs": [
    {
     "data": {
      "text/plain": [
       "140644231720512"
      ]
     },
     "execution_count": 55,
     "metadata": {},
     "output_type": "execute_result"
    }
   ],
   "source": [
    "id(a)"
   ]
  },
  {
   "cell_type": "code",
   "execution_count": 56,
   "id": "1ce93a28",
   "metadata": {},
   "outputs": [],
   "source": [
    "a.append(76)"
   ]
  },
  {
   "cell_type": "code",
   "execution_count": 57,
   "id": "b9cd3535",
   "metadata": {},
   "outputs": [
    {
     "name": "stdout",
     "output_type": "stream",
     "text": [
      "[10, 'pyhton', 19, True, 'd', 76]\n"
     ]
    }
   ],
   "source": [
    "print(a)"
   ]
  },
  {
   "cell_type": "code",
   "execution_count": 58,
   "id": "5fc75dfc",
   "metadata": {},
   "outputs": [
    {
     "data": {
      "text/plain": [
       "140644231720512"
      ]
     },
     "execution_count": 58,
     "metadata": {},
     "output_type": "execute_result"
    }
   ],
   "source": [
    "id(a)"
   ]
  },
  {
   "cell_type": "code",
   "execution_count": 59,
   "id": "b816ca43",
   "metadata": {},
   "outputs": [
    {
     "ename": "TypeError",
     "evalue": "'builtin_function_or_method' object is not subscriptable",
     "output_type": "error",
     "traceback": [
      "\u001b[0;31m---------------------------------------------------------------------------\u001b[0m",
      "\u001b[0;31mTypeError\u001b[0m                                 Traceback (most recent call last)",
      "Cell \u001b[0;32mIn[59], line 1\u001b[0m\n\u001b[0;32m----> 1\u001b[0m a\u001b[38;5;241m.\u001b[39mremove[\u001b[38;5;241m10\u001b[39m]\n",
      "\u001b[0;31mTypeError\u001b[0m: 'builtin_function_or_method' object is not subscriptable"
     ]
    }
   ],
   "source": [
    "a.remove[10]"
   ]
  },
  {
   "cell_type": "code",
   "execution_count": 60,
   "id": "a4a721f4",
   "metadata": {},
   "outputs": [],
   "source": [
    "a.remove(10)"
   ]
  },
  {
   "cell_type": "code",
   "execution_count": 61,
   "id": "0f33b5a0",
   "metadata": {},
   "outputs": [
    {
     "name": "stdout",
     "output_type": "stream",
     "text": [
      "['pyhton', 19, True, 'd', 76]\n"
     ]
    }
   ],
   "source": [
    "print(a)"
   ]
  },
  {
   "cell_type": "code",
   "execution_count": 62,
   "id": "7393048d",
   "metadata": {},
   "outputs": [],
   "source": [
    "a.remove(a[2])"
   ]
  },
  {
   "cell_type": "code",
   "execution_count": 63,
   "id": "fabeae37",
   "metadata": {},
   "outputs": [
    {
     "name": "stdout",
     "output_type": "stream",
     "text": [
      "['pyhton', 19, 'd', 76]\n"
     ]
    }
   ],
   "source": [
    "print(a)"
   ]
  },
  {
   "cell_type": "code",
   "execution_count": 64,
   "id": "747ee105",
   "metadata": {},
   "outputs": [
    {
     "name": "stdout",
     "output_type": "stream",
     "text": [
      "('tuple', 'a', '2019-67', 18, True, 12.98)\n"
     ]
    }
   ],
   "source": [
    "a=(\"tuple\",'a',\"2019-67\",18,True,12.98)\n",
    "print(a)"
   ]
  },
  {
   "cell_type": "code",
   "execution_count": 65,
   "id": "844c99cc",
   "metadata": {},
   "outputs": [
    {
     "ename": "AttributeError",
     "evalue": "'tuple' object has no attribute 'remove'",
     "output_type": "error",
     "traceback": [
      "\u001b[0;31m---------------------------------------------------------------------------\u001b[0m",
      "\u001b[0;31mAttributeError\u001b[0m                            Traceback (most recent call last)",
      "Cell \u001b[0;32mIn[65], line 1\u001b[0m\n\u001b[0;32m----> 1\u001b[0m a\u001b[38;5;241m.\u001b[39mremove(\u001b[38;5;124m\"\u001b[39m\u001b[38;5;124mtuple\u001b[39m\u001b[38;5;124m\"\u001b[39m)\n",
      "\u001b[0;31mAttributeError\u001b[0m: 'tuple' object has no attribute 'remove'"
     ]
    }
   ],
   "source": [
    "a.remove(\"tuple\")"
   ]
  },
  {
   "cell_type": "code",
   "execution_count": 66,
   "id": "43861631",
   "metadata": {},
   "outputs": [
    {
     "data": {
      "text/plain": [
       "'2019-67'"
      ]
     },
     "execution_count": 66,
     "metadata": {},
     "output_type": "execute_result"
    }
   ],
   "source": [
    "a[2]"
   ]
  },
  {
   "cell_type": "code",
   "execution_count": 67,
   "id": "1f3ce975",
   "metadata": {},
   "outputs": [
    {
     "name": "stdout",
     "output_type": "stream",
     "text": [
      "I am Athena working in the dustbin\n"
     ]
    }
   ],
   "source": [
    "name=\"Athena\"\n",
    "working=\"in the dustbin\"\n",
    "print(\"I am {} working {}\".format(name,working))"
   ]
  },
  {
   "cell_type": "code",
   "execution_count": 68,
   "id": "38541fdf",
   "metadata": {},
   "outputs": [
    {
     "name": "stdout",
     "output_type": "stream",
     "text": [
      "I am Athena working in the dustbin\n"
     ]
    }
   ],
   "source": [
    "print(\"I am %s working %s\"%(name,working))"
   ]
  },
  {
   "cell_type": "code",
   "execution_count": 69,
   "id": "b08d9dd0",
   "metadata": {},
   "outputs": [
    {
     "name": "stdout",
     "output_type": "stream",
     "text": [
      "I am Athena working in the dustbin\n"
     ]
    }
   ],
   "source": [
    "print(f\"I am {name} working {working}\")"
   ]
  },
  {
   "cell_type": "code",
   "execution_count": 70,
   "id": "1109d477",
   "metadata": {},
   "outputs": [],
   "source": [
    "# Employee details\n",
    "name = \"John Doe\"\n",
    "job_title = \"Senior Geologist\"\n",
    "department = \"Geology\"\n",
    "email = \"johndoe@email.com\"\n",
    "phone = \"123-456-7890\""
   ]
  },
  {
   "cell_type": "code",
   "execution_count": 71,
   "id": "34015d02",
   "metadata": {},
   "outputs": [
    {
     "name": "stdout",
     "output_type": "stream",
     "text": [
      "name:John Doe\n",
      "job_title:Senior Geologist\n",
      "department:Geology\n",
      "email:johndoe@email.com\n",
      "phone:123-456-7890\n"
     ]
    }
   ],
   "source": [
    "print(f\"\"\"name:{name}\n",
    "job_title:{job_title}\n",
    "department:{department}\n",
    "email:{email}\n",
    "phone:{phone}\"\"\")"
   ]
  },
  {
   "cell_type": "code",
   "execution_count": 73,
   "id": "e4e84792",
   "metadata": {},
   "outputs": [
    {
     "ename": "NameError",
     "evalue": "name 'x' is not defined",
     "output_type": "error",
     "traceback": [
      "\u001b[0;31m---------------------------------------------------------------------------\u001b[0m",
      "\u001b[0;31mNameError\u001b[0m                                 Traceback (most recent call last)",
      "Cell \u001b[0;32mIn[73], line 1\u001b[0m\n\u001b[0;32m----> 1\u001b[0m a \u001b[38;5;241m=\u001b[39m {x,\u001b[38;5;124m\"\u001b[39m\u001b[38;5;124manushka\u001b[39m\u001b[38;5;124m\"\u001b[39m,\u001b[38;5;241m10\u001b[39m,\u001b[38;5;241m40\u001b[39m,\u001b[38;5;241m60.5\u001b[39m,\u001b[38;5;241m60.5\u001b[39m,\u001b[38;5;28;01mTrue\u001b[39;00m}\n\u001b[1;32m      2\u001b[0m \u001b[38;5;28mprint\u001b[39m(a)\n",
      "\u001b[0;31mNameError\u001b[0m: name 'x' is not defined"
     ]
    }
   ],
   "source": [
    "a = {x,\"anushka\",10,40,60.5,60.5,True}\n",
    "print(a)"
   ]
  },
  {
   "cell_type": "code",
   "execution_count": 74,
   "id": "a972fbe7",
   "metadata": {},
   "outputs": [
    {
     "name": "stdout",
     "output_type": "stream",
     "text": [
      "{True, 'anushka', 40, 10, 60.5}\n"
     ]
    }
   ],
   "source": [
    "a = {\"anushka\",10,40,60.5,60.5,True}\n",
    "print(a)"
   ]
  },
  {
   "cell_type": "code",
   "execution_count": 75,
   "id": "7e198dd7",
   "metadata": {},
   "outputs": [
    {
     "ename": "AttributeError",
     "evalue": "'set' object has no attribute 'append'",
     "output_type": "error",
     "traceback": [
      "\u001b[0;31m---------------------------------------------------------------------------\u001b[0m",
      "\u001b[0;31mAttributeError\u001b[0m                            Traceback (most recent call last)",
      "Cell \u001b[0;32mIn[75], line 1\u001b[0m\n\u001b[0;32m----> 1\u001b[0m a\u001b[38;5;241m.\u001b[39mappend(\u001b[38;5;124m\"\u001b[39m\u001b[38;5;124mgh\u001b[39m\u001b[38;5;124m\"\u001b[39m)\n",
      "\u001b[0;31mAttributeError\u001b[0m: 'set' object has no attribute 'append'"
     ]
    }
   ],
   "source": [
    "a.append(\"gh\")"
   ]
  },
  {
   "cell_type": "code",
   "execution_count": 76,
   "id": "b34c5fc5",
   "metadata": {},
   "outputs": [],
   "source": [
    "a.add(56)"
   ]
  },
  {
   "cell_type": "code",
   "execution_count": 77,
   "id": "7dee4068",
   "metadata": {},
   "outputs": [
    {
     "name": "stdout",
     "output_type": "stream",
     "text": [
      "{True, 'anushka', 56, 40, 10, 60.5}\n"
     ]
    }
   ],
   "source": [
    "print(a)"
   ]
  },
  {
   "cell_type": "code",
   "execution_count": 78,
   "id": "a3177cc2",
   "metadata": {},
   "outputs": [
    {
     "name": "stdout",
     "output_type": "stream",
     "text": [
      "Is Hydrotreating Unit installed? True\n",
      "Is Thermal Cracking Unit obsolete? True\n"
     ]
    }
   ],
   "source": [
    "# List of Equipment\n",
    "refineryEquipment = [\"Crude Distillation Unit\", \"Catalytic Cracking Unit\", \"Hydrotreating Unit\", \"FCC Unit\"]\n",
    "\n",
    " \n",
    "\n",
    "# Membership Operator\n",
    "IsUnitInstalled = \"Hydrotreating Unit\" in refineryEquipment\n",
    "IsUnitObsolete = \"Thermal Cracking Unit\" not in refineryEquipment\n",
    "\n",
    " \n",
    "\n",
    "print(\"Is Hydrotreating Unit installed?\", IsUnitInstalled)\n",
    "print(\"Is Thermal Cracking Unit obsolete?\", IsUnitObsolete)"
   ]
  },
  {
   "cell_type": "code",
   "execution_count": 79,
   "id": "217e792f",
   "metadata": {},
   "outputs": [
    {
     "name": "stdout",
     "output_type": "stream",
     "text": [
      "John Doe, Senior Geologist, Geology, johndoe@email.com, 123-456-7890\n"
     ]
    }
   ],
   "source": [
    "employees = [\n",
    "    \"John Doe, Senior Geologist, Geology, johndoe@email.com, 123-456-7890\",\n",
    "    \"Jane Smith, Drilling Engineer, Drilling, janesmith@email.com, 987-654-3210\",\n",
    "    \"Bob Johnson, Reservoir Engineer, Reservoir Engineering, bobjohnson@email.com, 456-789-0123\",\n",
    "    \"Alice Brown, Petrophysicist, Petrophysics, alicebrown@email.com, 789-012-3456\"\n",
    "]\n",
    "print(employees[0])"
   ]
  },
  {
   "cell_type": "code",
   "execution_count": 80,
   "id": "24e4a40a",
   "metadata": {},
   "outputs": [],
   "source": [
    "new_employee = \"Eva Green, Drilling Technician, Drilling, evagreen@email.com, 111-222-3333\"\n",
    "employees.append(new_employee)"
   ]
  },
  {
   "cell_type": "code",
   "execution_count": 81,
   "id": "c6621cd3",
   "metadata": {},
   "outputs": [
    {
     "name": "stdout",
     "output_type": "stream",
     "text": [
      "['John Doe, Senior Geologist, Geology, johndoe@email.com, 123-456-7890', 'Jane Smith, Drilling Engineer, Drilling, janesmith@email.com, 987-654-3210', 'Bob Johnson, Reservoir Engineer, Reservoir Engineering, bobjohnson@email.com, 456-789-0123', 'Alice Brown, Petrophysicist, Petrophysics, alicebrown@email.com, 789-012-3456', 'Eva Green, Drilling Technician, Drilling, evagreen@email.com, 111-222-3333']\n"
     ]
    }
   ],
   "source": [
    "print(employees)"
   ]
  },
  {
   "cell_type": "code",
   "execution_count": 84,
   "id": "1835fe70",
   "metadata": {},
   "outputs": [
    {
     "name": "stdout",
     "output_type": "stream",
     "text": [
      "not eligible\n"
     ]
    }
   ],
   "source": [
    "age = 4\n",
    "if(age>18):\n",
    "    print(\"eligible\")\n",
    "else:\n",
    "    print(\"not eligible\")\n"
   ]
  },
  {
   "cell_type": "code",
   "execution_count": 88,
   "id": "02eba293",
   "metadata": {},
   "outputs": [
    {
     "name": "stdout",
     "output_type": "stream",
     "text": [
      "Enter current fuel:1\n",
      "1\n",
      "Critical level reached. Take immediate actions.\n"
     ]
    }
   ],
   "source": [
    "low = 1000;\n",
    "critical = 500;\n",
    "current = input(\"Enter current fuel:\")\n",
    "print(current)\n",
    "if(int(current)<=critical):\n",
    "    print(\"Critical level reached. Take immediate actions.\")\n",
    "elif(int(current)<low):\n",
    "    print(\"Sent fuel\")\n",
    "else:\n",
    "    print(\"Continue fueling\")"
   ]
  },
  {
   "cell_type": "code",
   "execution_count": 89,
   "id": "01bef329",
   "metadata": {},
   "outputs": [
    {
     "name": "stdout",
     "output_type": "stream",
     "text": [
      "5\n",
      "10\n"
     ]
    }
   ],
   "source": [
    "for i in range(5,12,5):\n",
    "    print(i)"
   ]
  },
  {
   "cell_type": "code",
   "execution_count": 90,
   "id": "c52e7978",
   "metadata": {},
   "outputs": [],
   "source": [
    "oil_gas_data = [\n",
    "    (\"Field A\", \"Texas\", 500000),\n",
    "    (\"Field B\", \"Alaska\", 800000),\n",
    "    (\"Field C\", \"North Sea\", 300000),\n",
    "    (\"Field D\", \"Gulf of Mexico\", 600000),\n",
    "]"
   ]
  },
  {
   "cell_type": "code",
   "execution_count": 91,
   "id": "7e8e1100",
   "metadata": {},
   "outputs": [
    {
     "name": "stdout",
     "output_type": "stream",
     "text": [
      "Fields: ('Field A', 'Field B', 'Field C', 'Field D')\n",
      "Locations: ('Texas', 'Alaska', 'North Sea', 'Gulf of Mexico')\n",
      "Production: (500000, 800000, 300000, 600000)\n"
     ]
    }
   ],
   "source": [
    "fields, locations, production = zip(*oil_gas_data)\n",
    "\n",
    " \n",
    "\n",
    "print(\"Fields:\", fields)\n",
    "print(\"Locations:\", locations)\n",
    "print(\"Production:\", production)"
   ]
  },
  {
   "cell_type": "code",
   "execution_count": null,
   "id": "1e9067f5",
   "metadata": {},
   "outputs": [],
   "source": []
  }
 ],
 "metadata": {
  "kernelspec": {
   "display_name": "Python 3 (ipykernel)",
   "language": "python",
   "name": "python3"
  },
  "language_info": {
   "codemirror_mode": {
    "name": "ipython",
    "version": 3
   },
   "file_extension": ".py",
   "mimetype": "text/x-python",
   "name": "python",
   "nbconvert_exporter": "python",
   "pygments_lexer": "ipython3",
   "version": "3.11.4"
  }
 },
 "nbformat": 4,
 "nbformat_minor": 5
}
